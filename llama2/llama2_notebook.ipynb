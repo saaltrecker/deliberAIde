{
 "cells": [
  {
   "cell_type": "markdown",
   "metadata": {},
   "source": [
    "# Experimenting with LlaMA2 for deliberAIde"
   ]
  },
  {
   "cell_type": "markdown",
   "metadata": {},
   "source": [
    "## Download the Model via Hugging Face API\n",
    "\n",
    "The following code takes advantage of Hugging Face API and Google Colab's free-tier GPU. With this tier, we are able to use Llama 2 7B version. Higher versions (i.e. more parameters) requires additional VRAM, and a higher (no longer free) tier.\n",
    "\n",
    "First, install necessary packages and log in using hugging face."
   ]
  },
  {
   "cell_type": "code",
   "execution_count": null,
   "metadata": {},
   "outputs": [],
   "source": [
    "!pip install huggingface_hub\n",
    "!pip install -q transformers einops accelerate langchain bitsandbytes"
   ]
  },
  {
   "cell_type": "markdown",
   "metadata": {},
   "source": [
    "in command line, use `huggingface-cli login` to authenticate with Hugging Face API key.\n",
    "\n",
    "After that, you can run code below to download the model. "
   ]
  },
  {
   "cell_type": "code",
   "execution_count": null,
   "metadata": {},
   "outputs": [],
   "source": [
    "from langchain import HuggingFacePipeline\n",
    "from transformers import AutoTokenizer\n",
    "import transformers\n",
    "import torch\n",
    "\n",
    "model = \"meta-llama/Llama-2-7b-chat-hf\"\n",
    "\n",
    "tokenizer = AutoTokenizer.from_pretrained(model)\n",
    "\n",
    "pipeline = transformers.pipeline(\n",
    "    \"text-generation\", \n",
    "    model=model,\n",
    "    tokenizer=tokenizer,\n",
    "    torch_dtype=torch.bfloat16,\n",
    "    trust_remote_code=True,\n",
    "    device_map=\"auto\",\n",
    "    max_length=1000,\n",
    "    eos_token_id=tokenizer.eos_token_id\n",
    ")"
   ]
  },
  {
   "cell_type": "code",
   "execution_count": null,
   "metadata": {},
   "outputs": [],
   "source": [
    "llm = HuggingFacePipeline(pipeline = pipeline, model_kwargs = {'temperature':0})"
   ]
  },
  {
   "cell_type": "markdown",
   "metadata": {},
   "source": [
    "## Prompt-Template"
   ]
  },
  {
   "cell_type": "markdown",
   "metadata": {},
   "source": [
    "Here is a simple prompt template. I have included the specific template just for topics for now. We can extend this to the other prompts. "
   ]
  },
  {
   "cell_type": "code",
   "execution_count": null,
   "metadata": {},
   "outputs": [],
   "source": [
    "from langchain import PromptTemplate,  LLMChain\n",
    "\n",
    "template = \"\"\"\n",
    "            You are an assistant for group discussions, specializing in keeping track of and documenting the discussion,/\n",
    "            that is, the topics discussed, the viewpoints/positions on each topic, and the arguments/explanations given in support of each viewpoint./\n",
    "            List the topics in an array according to the following example: [[\" \", \"topic1\"],[\" \",\"topic2\"]]\n",
    "            Identify the one or several main topics discussed in the discussion transcript, delimited with triple backticks. If there are multiple identified topics, but they all center around the same main topic, only record the main topic. Don't record sub-topics.\n",
    "\n",
    "            Return the topics as a list in json format.\n",
    "            Review transcript: '''{transcript}'''\n",
    "           \"\"\"\n",
    "\n",
    "prompt = PromptTemplate(template=template, input_variables=[\"transcript\"])\n",
    "\n",
    "topics_chain = LLMChain(prompt=prompt, llm=llm)"
   ]
  },
  {
   "cell_type": "markdown",
   "metadata": {},
   "source": [
    "## Transcripts"
   ]
  },
  {
   "cell_type": "markdown",
   "metadata": {},
   "source": [
    "Easy access to test transcripts."
   ]
  },
  {
   "cell_type": "code",
   "execution_count": null,
   "metadata": {},
   "outputs": [],
   "source": [
    "# Social Media\n",
    "transcript1 = 'Participant 1: \"The role of social media in political campaigns is a subject that has gained significant attention in recent years.\\\n",
    "    It has become a powerful tool for politicians to engage with voters and spread their message. \\\n",
    "    However, there are concerns about the spread of misinformation and the manipulation of public opinion through targeted ads.\"\\\n",
    "    Participant 2: \"I agree that social media provides a platform for political candidates to connect with a wider audience and mobilize support.\\\n",
    "    However, the lack of regulation and transparency in political advertising on these platforms is a major issue that needs to be addressed.\"\\\n",
    "    Participant 3: \"I believe that social media has democratized political discourse and allowed marginalized voices to be heard. \\\n",
    "    It provides a platform for grassroots movements and enables citizens to participate in political discussions like never before.\\\n",
    "    We should focus on educating users about media literacy and critical thinking to combat misinformation.\" \\\n",
    "    Participant 4: \"While social media has its benefits, the algorithms used by these platforms tend to create echo chambers and reinforce existing biases.\\\n",
    "    We need better regulation to ensure that diverse viewpoints are represented and to prevent the manipulation of public opinion through targeted content.\"'"
   ]
  },
  {
   "cell_type": "code",
   "execution_count": null,
   "metadata": {},
   "outputs": [],
   "source": [
    "# Cyber-Security\n",
    "transcript2 = 'Speaker 1: \"With the rising threat of cyber-attacks, our data is at risk.\\\n",
    "    We need to act now, and I believe that multi-factor authentication can be a part of the solution.\\\n",
    "    \"Speaker 2: \"Well, I agree about the threat, but multi-factor authentication is a hassle. \\\n",
    "    We have to consider the inconvenience it could cause.\"Speaker 3: \"Inconvenience is a small price to pay for security. \\\n",
    "    Besides, once it becomes routine, it won\\'t feel inconvenient.\\\n",
    "    \"Speaker 4: \"Yes, but what about older folks who struggle with technology? \\\n",
    "    It\\'s important to keep our systems user-friendly.\\\n",
    "    \"Speaker 5: \"I think the key is balance. We need a solution that ensures both security and ease of use.\\\n",
    "    \"Speaker 6: \"Implementing multi-factor authentication isn\\'t enough. \\\n",
    "    We need to raise public awareness about cybersecurity risks and educate people about safe practices.\"Speaker 7: \"I agree. \\\n",
    "    Let\\'s not forget the importance of cybersecurity policies and regular system audits too.\"'\n",
    "\n"
   ]
  },
  {
   "cell_type": "code",
   "execution_count": null,
   "metadata": {},
   "outputs": [],
   "source": [
    "# Marijuana\n",
    "transcript3 = 'P1: \"The debate around the legalization of recreational marijuana has been a hot topic recently.\\\n",
    "I personally think it\\'s high time we embraced this change.\\\n",
    "It could be a new source of tax revenue and reduce crime related to illegal drug trafficking.\"\\\n",
    "P2: \"I agree with the economic benefits, P1, but aren\\'t we forgetting about the public health implications? \\\n",
    "Increased accessibility might lead to misuse and addiction. I\\'m worried about our youth.\" \\\n",
    "P3: \"The public health concern is valid, P2. But, alcohol and tobacco are legal and potentially harmful too, isn\\'t it a matter of personal responsibility and proper regulation?\" \\\n",
    "P4: \"P3 makes a good point. Regulation is the key. Maybe we can use some of the tax revenue for public health campaigns and addiction treatment services?\" P5: \"And let\\\n",
    "\\'s not forget, legalization also means we can have quality control standards for marijuana, which isn\\'t possible now. \\\n",
    "It might actually make it safer.\" P6: \"True, but there\\'s also the image issue. \\\n",
    "We don\\'t want to be seen as a city promoting drug use, do we?\" P7: \"It\\'s a tricky decision indeed. \\\n",
    "Maybe we should hold a citywide referendum and let our citizens decide? In the meantime, we should gather more data and engage experts in public health, \\\n",
    "law enforcement and economic policy to ensure we have all the facts.\"'"
   ]
  },
  {
   "cell_type": "code",
   "execution_count": null,
   "metadata": {},
   "outputs": [],
   "source": [
    "# Youth Violence\n",
    "transcript4 = 'Speaker 1: \"We\\'ve seen a rise in youth violence in our community, and I\\'m worried. \\\n",
    "Maybe some sort of mentoring program could make a difference?\"\\\n",
    "Speaker 2: \"Mentoring? Really? In my opinion, we need more police presence. That\\'s the only language these kids understand.\" \\\n",
    "Speaker 3: \"I wouldn\\'t discount the value of a mentoring program so quickly. \\\n",
    "The problem isn\\'t just law enforcement, but also social issues. Addressing those might help.\" \\\n",
    "Speaker 4: \"If you ask me, this is a problem that begins at home. Many of these kids lack a good family structure. \\\n",
    "We need programs that support families too.\" Speaker 5: \"All these are good points, but what about the role of schools? \\\n",
    "They\\'re underfunded and struggling to offer good education and extracurricular activities.\" \\\n",
    "Speaker 6: \"Yes, and we also have to remember the role of peer pressure in youth violence. \\\n",
    "We need programs that teach our kids about healthy relationships and choices.\"'"
   ]
  },
  {
   "cell_type": "markdown",
   "metadata": {},
   "source": [
    "## Running"
   ]
  },
  {
   "cell_type": "markdown",
   "metadata": {},
   "source": [
    "Now we are ready to pass in one of the transcripts and see how it does on the topic assessment."
   ]
  },
  {
   "cell_type": "code",
   "execution_count": null,
   "metadata": {},
   "outputs": [],
   "source": [
    "print(topics_chain.run(transcript1)) # Social Media Transcript"
   ]
  },
  {
   "cell_type": "markdown",
   "metadata": {},
   "source": [
    "# Extending beyond Topics"
   ]
  },
  {
   "cell_type": "markdown",
   "metadata": {},
   "source": [
    "## Viewpoints and Arguments\n"
   ]
  },
  {
   "cell_type": "markdown",
   "metadata": {},
   "source": [
    "I have developed some general frameworks for when we want to see the accuracy and stability of viewpoints (`viewpoints_chain`) and arguments (`arguments_chain`)."
   ]
  },
  {
   "cell_type": "code",
   "execution_count": null,
   "metadata": {},
   "outputs": [],
   "source": [
    "template = \"\"\"\n",
    "        You are an assistant for group discussions, specialized on keeping track and documenting the discussion,\n",
    "        that is, the topics discussed, the viewpoints/positions on each topic and the arguments/explanations given in support of each viewpoint.\n",
    "\n",
    "        For each main topic in '{topics}', analyse the corresponding excerpt from the below discussion transcript, deliminted by triple backticks.\n",
    "        Your task is to identify all the viewpoints expressed on the topic.\n",
    "        For each topic, create a list of viewpoints in the following json format: [[\"topic1\",\"viewpoint1\"],[\"topic1\",\"viewpoint2\"]].\n",
    "\n",
    "        Proceed according to the following steps:\n",
    "\n",
    "        Step 1: Are there one or several viewpoints being expressed in the excerpt?\n",
    "                    A \"viewpoint\" refers to \"one's perspective of opinion on a particular topic\".\n",
    "        Step 2: If there is only one viewpoint, summarize the viewpoint in 3 keywords max,/\n",
    "                    more keywords only if necessary to fully grasp the viewpoint. Viewpoint keywords/\n",
    "                    should be expressed as noun phrases that describe the viewpoint in a depersonalized manner./\n",
    "                    For example, instead of “Supports Renewables”, the viewpoint keyword should be “Support for Renewables”.\n",
    "                    Instead of “Believes in Traditional Energy”, the viewpoint keyword should be “Belief in Traditional Energy”.\n",
    "\n",
    "                    If there are several viewpoints, summarize each viewpoint in 3 keywords max, more keywords only if\n",
    "                    necessary to fully grasp the topic. Viewpoint keywords should be expressed as noun phrases that describe\n",
    "                    the viewpoint in a depersonalized manner, as explained in the instruction for one viewpoint.\n",
    "        Step 3: Disregard viewpoints that are not relevant to the current topic or more relevant to another topic. Only if a viewpoint is equally relevant to multiple topics, include it under all relevant topics.\n",
    "        Step 4: Identify viewpoints that convey essentially the same stance on the topic. For example, viewpoints like 'Lack of regulation and transparency' and 'Need for better regulation' express similar concerns regarding the need for increased regulation in the domain. In such cases, merge these viewpoints into a single unified viewpoint that encapsulates both perspectives. Ensure this is reflected in the summary of viewpoints in the result dictionary.\n",
    "\n",
    "        Return the list of viewpoints in json format.\n",
    "\n",
    "\n",
    "        '''{transcript}'''`\n",
    "        \"\"\"\n",
    "\n",
    "prompt = PromptTemplate(template=template, input_variables=[\"transcript\", \"topics\"])\n",
    "\n",
    "viewpoints_chain = LLMChain(prompt=prompt, llm=llm)"
   ]
  },
  {
   "cell_type": "code",
   "execution_count": null,
   "metadata": {},
   "outputs": [],
   "source": [
    "template = \"\"\"\n",
    "            `You are an assistant for group discussions, specialized on keeping track and documenting the discussion,\n",
    "            that is, the topics discussed, the viewpoints and sub-viewpoints on each topic and the arguments/explanations given in support of each viewpoint and sub-viewpoint.\n",
    "            Loop through each viewpoint and sub-viewpoint {viewpoints} and extract the arguments/explanations given in support of each viewpoint and sub-viewpoint from the corresponding excerpt in the below discussion transcript, delimited by triple hashtags.\n",
    "            Your task is to identify all the arguments/explanations given in support of each viewpoint and sub-viewpoint, summarize the arguments/explanations.\n",
    "            For each viewpoint, create a list of arguments in the following json format: [[\"viewpoint1\",\"argument1\",\"viewpoint1\",\"argument2\"]].\n",
    "\n",
    "\n",
    "            Proceed according to the following steps:\n",
    "            Step 1: For each identified viewpoint and sub-viewpoint, extract all the argument given in support of the viewpoint/sub-viewpoint from the corresponding excerpt in the below discussion transcript.\n",
    "                    An \"argument\" refers to a statement or series of statements in support of a viewpoint expressed on a discussion topic.\n",
    "                    It can consist a series of statements, facts, or any kind of explanation or justification intended to develop or support a point of view.\n",
    "                    It is often structured as follows: a claim backed up with evidence, facts, and examples.\n",
    "\n",
    "            Step 2: Summarize all the arguments per viewpoint or sub-viewpoint in one or multiple sentences.Make the summary long enough to capture the full complexity of the argument and make it understandable for an outsider unfamiliar with the discussion, but shorter than the corresponding discussion excerpt. Arguments should be expressed as noun phrases that describe the argument in a depersonalized manner.\n",
    "                    For example, instead of “Argues renewables are bad, because windmills destroy biodiversity”, the argument summary should be “Renewables are bad, because wind farms negatively impact biodiversity”.\n",
    "\n",
    "\n",
    "            Return the list of arguments in json format.\n",
    "\n",
    "            ```{transcript}```\n",
    "           \"\"\"\n",
    "\n",
    "prompt = PromptTemplate(template=template, input_variables=[\"transcript\", \"viewpoints\"])\n",
    "\n",
    "arguments_chain = LLMChain(prompt=prompt, llm=llm)"
   ]
  },
  {
   "cell_type": "code",
   "execution_count": null,
   "metadata": {},
   "outputs": [],
   "source": [
    "print(viewpoints_chain.run(transcript1)) # Social Media Transcript"
   ]
  },
  {
   "cell_type": "code",
   "execution_count": null,
   "metadata": {},
   "outputs": [],
   "source": [
    "print(arguments_chain.run(transcript1)) # Social Media Transcript"
   ]
  }
 ],
 "metadata": {
  "kernelspec": {
   "display_name": "deliberAIde",
   "language": "python",
   "name": "python3"
  },
  "language_info": {
   "codemirror_mode": {
    "name": "ipython",
    "version": 3
   },
   "file_extension": ".py",
   "mimetype": "text/x-python",
   "name": "python",
   "nbconvert_exporter": "python",
   "pygments_lexer": "ipython3",
   "version": "3.10.6"
  },
  "orig_nbformat": 4
 },
 "nbformat": 4,
 "nbformat_minor": 2
}
