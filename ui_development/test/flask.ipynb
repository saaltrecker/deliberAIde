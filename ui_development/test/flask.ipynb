{
 "cells": [
  {
   "cell_type": "code",
   "execution_count": 2,
   "id": "f85949f4",
   "metadata": {},
   "outputs": [
    {
     "name": "stdout",
     "output_type": "stream",
     "text": [
      "Requirement already satisfied: flask in /Users/colmofuarthain/.pyenv/versions/3.10.6/envs/deliberAIde/lib/python3.10/site-packages (2.3.2)\n",
      "Collecting flask-sqlalchemy\n",
      "  Downloading Flask_SQLAlchemy-3.0.3-py3-none-any.whl (24 kB)\n",
      "Requirement already satisfied: Werkzeug>=2.3.3 in /Users/colmofuarthain/.pyenv/versions/3.10.6/envs/deliberAIde/lib/python3.10/site-packages (from flask) (2.3.4)\n",
      "Requirement already satisfied: Jinja2>=3.1.2 in /Users/colmofuarthain/.pyenv/versions/3.10.6/envs/deliberAIde/lib/python3.10/site-packages (from flask) (3.1.2)\n",
      "Requirement already satisfied: itsdangerous>=2.1.2 in /Users/colmofuarthain/.pyenv/versions/3.10.6/envs/deliberAIde/lib/python3.10/site-packages (from flask) (2.1.2)\n",
      "Requirement already satisfied: click>=8.1.3 in /Users/colmofuarthain/.pyenv/versions/3.10.6/envs/deliberAIde/lib/python3.10/site-packages (from flask) (8.1.3)\n",
      "Requirement already satisfied: blinker>=1.6.2 in /Users/colmofuarthain/.pyenv/versions/3.10.6/envs/deliberAIde/lib/python3.10/site-packages (from flask) (1.6.2)\n",
      "Collecting SQLAlchemy>=1.4.18 (from flask-sqlalchemy)\n",
      "  Downloading SQLAlchemy-2.0.15-cp310-cp310-macosx_10_9_x86_64.whl (2.0 MB)\n",
      "\u001b[2K     \u001b[90m━━━━━━━━━━━━━━━━━━━━━━━━━━━━━━━━━━━━━━━━\u001b[0m \u001b[32m2.0/2.0 MB\u001b[0m \u001b[31m3.8 MB/s\u001b[0m eta \u001b[36m0:00:00\u001b[0m00:01\u001b[0m00:01\u001b[0m\n",
      "\u001b[?25hRequirement already satisfied: MarkupSafe>=2.0 in /Users/colmofuarthain/.pyenv/versions/3.10.6/envs/deliberAIde/lib/python3.10/site-packages (from Jinja2>=3.1.2->flask) (2.1.3)\n",
      "Requirement already satisfied: typing-extensions>=4.2.0 in /Users/colmofuarthain/.pyenv/versions/3.10.6/envs/deliberAIde/lib/python3.10/site-packages (from SQLAlchemy>=1.4.18->flask-sqlalchemy) (4.6.3)\n",
      "Collecting greenlet!=0.4.17 (from SQLAlchemy>=1.4.18->flask-sqlalchemy)\n",
      "  Using cached greenlet-2.0.2-cp310-cp310-macosx_11_0_x86_64.whl (242 kB)\n",
      "Installing collected packages: greenlet, SQLAlchemy, flask-sqlalchemy\n",
      "Successfully installed SQLAlchemy-2.0.15 flask-sqlalchemy-3.0.3 greenlet-2.0.2\n"
     ]
    }
   ],
   "source": [
    "!pip install flask flask-sqlalchemy"
   ]
  },
  {
   "cell_type": "code",
   "execution_count": null,
   "id": "fb7315bd",
   "metadata": {},
   "outputs": [],
   "source": [
    "from flask import Flask"
   ]
  }
 ],
 "metadata": {
  "kernelspec": {
   "display_name": "Python 3 (ipykernel)",
   "language": "python",
   "name": "python3"
  },
  "language_info": {
   "codemirror_mode": {
    "name": "ipython",
    "version": 3
   },
   "file_extension": ".py",
   "mimetype": "text/x-python",
   "name": "python",
   "nbconvert_exporter": "python",
   "pygments_lexer": "ipython3",
   "version": "3.10.6"
  },
  "toc": {
   "base_numbering": 1,
   "nav_menu": {},
   "number_sections": true,
   "sideBar": true,
   "skip_h1_title": false,
   "title_cell": "Table of Contents",
   "title_sidebar": "Contents",
   "toc_cell": false,
   "toc_position": {},
   "toc_section_display": true,
   "toc_window_display": false
  }
 },
 "nbformat": 4,
 "nbformat_minor": 5
}
