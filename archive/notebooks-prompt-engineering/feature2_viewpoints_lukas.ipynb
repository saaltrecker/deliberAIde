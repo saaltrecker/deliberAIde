{
 "cells": [
  {
   "cell_type": "code",
   "execution_count": 34,
   "id": "2af451ab",
   "metadata": {},
   "outputs": [
    {
     "name": "stdout",
     "output_type": "stream",
     "text": [
      "Collecting anytree\n",
      "  Downloading anytree-2.8.0-py2.py3-none-any.whl (41 kB)\n",
      "\u001b[2K     \u001b[90m━━━━━━━━━━━━━━━━━━━━━━━━━━━━━━━━━━━━━━━━\u001b[0m \u001b[32m41.7/41.7 kB\u001b[0m \u001b[31m1.3 MB/s\u001b[0m eta \u001b[36m0:00:00\u001b[0m\n",
      "\u001b[?25hRequirement already satisfied: six>=1.9.0 in /home/saaltrecker/.pyenv/versions/3.10.6/envs/deliberAIde/lib/python3.10/site-packages (from anytree) (1.16.0)\n",
      "Installing collected packages: anytree\n",
      "Successfully installed anytree-2.8.0\n"
     ]
    }
   ],
   "source": [
    "!pip install anytree"
   ]
  },
  {
   "cell_type": "code",
   "execution_count": 36,
   "id": "08310c8b",
   "metadata": {},
   "outputs": [],
   "source": [
    "import openai\n",
    "import os\n",
    "import json\n",
    "from anytree import Node, RenderTree\n",
    "\n",
    "openai.api_key  = os.environ.get('API_KEY')"
   ]
  },
  {
   "cell_type": "code",
   "execution_count": null,
   "id": "c14c1cfc",
   "metadata": {},
   "outputs": [],
   "source": [
    "def get_completion(prompt, model=\"gpt-4\"):\n",
    "    messages = [{\"role\": \"user\", \"content\": prompt}]\n",
    "    response = openai.ChatCompletion.create(\n",
    "        model=model,\n",
    "        messages=messages,\n",
    "        temperature=0, # this is the degree of randomness of the model's output\n",
    "    )\n",
    "    return response.choices[0].message[\"content\"]"
   ]
  },
  {
   "cell_type": "markdown",
   "id": "821a458d",
   "metadata": {},
   "source": [
    "### Prompt for previous step (feature 1: topics)"
   ]
  },
  {
   "cell_type": "code",
   "execution_count": 87,
   "id": "5f2a8ed9",
   "metadata": {},
   "outputs": [],
   "source": [
    "transcript = f\"\"\"\n",
    "Participant 1: \"The role of social media in political campaigns is a subject that has gained significant attention in recent years. It has become a powerful tool for politicians to engage with voters and spread their message. However, there are concerns about the spread of misinformation and the manipulation of public opinion through targeted ads.\" Participant 2: \"I agree that social media provides a platform for political candidates to connect with a wider audience and mobilize support. However, the lack of regulation and transparency in political advertising on these platforms is a major issue that needs to be addressed.\" Participant 3: \"I believe that social media has democratized political discourse and allowed marginalized voices to be heard. It provides a platform for grassroots movements and enables citizens to participate in political discussions like never before. We should focus on educating users about media literacy and critical thinking to combat misinformation.\" Participant 4: \"While social media has its benefits, the algorithms used by these platforms tend to create echo chambers and reinforce existing biases. We need better regulation to ensure that diverse viewpoints are represented and to prevent the manipulation of public opinion through targeted content.\"\n",
    "Participant 1: \"What are we gonna do about the rising population? We can't keep up.\"  Participant 2: \"We could start by improving our public services, specifically health and education.\" Participant 3: \"I think immigration policies should be stricter. There are too many people coming in.\"  Participant 4: \"Wait, but what if we focus on creating more jobs? More people means more workforce.\" Participant 5: \"Let's not forget about housing. We need more and affordable homes.\" Participant 6: \"The environment! We can't ignore the impact of population growth on nature.\" Participant 7: \"What about promoting family planning programs? It has worked in some countries.\"\n",
    "\"\"\"\n"
   ]
  },
  {
   "cell_type": "code",
   "execution_count": 66,
   "id": "7a94e279",
   "metadata": {},
   "outputs": [],
   "source": [
    "#Old fake prompt\n",
    "prompt = f\"\"\"\n",
    "You are an assistant for group discussions, specialized on keeping track and documenting the discussion,/\n",
    "that is, the topics discussed, the viewpoints/positions on each topic and the arguments/explanations given in support of each viewpoint./\n",
    "Identify the topics discussed in the discussion transcript, delimited with triple backticks.\n",
    "Proceed in the following steps:\n",
    "\n",
    "Step 1: Are there one or several topics being discussed the transcript? A discussion topic refers to \"the subject being talked about\".\n",
    "Step 2: If there is only one discussion topic, summarize the topic in 1 keyword, or more if necessary. Create a dictionary with the identified and summarized topic as key and the transcript as value.\n",
    "        Format the dictionary in JSON-format.\n",
    "        If there are several discussion topics, summarize each topic in 1 keyword, or more if necessary. Create a dictionary with all the identified and summarized topics as keys and the corresponding excerpts from the transcript as value.\n",
    "        Format the dictionary in JSON-format.\n",
    "Only include the dictionary in your response.\n",
    "```{transcript}```\n",
    "\"\"\"\n"
   ]
  },
  {
   "cell_type": "code",
   "execution_count": 88,
   "id": "b341f9be",
   "metadata": {},
   "outputs": [],
   "source": [
    "prompt = f\"\"\"\n",
    "You are an assistant for group discussions, specializing in keeping track of and documenting the discussion,/\n",
    "that is, the topics discussed, the viewpoints/positions on each topic, and the arguments/explanations given in support of each viewpoint./\n",
    "Identify the topics discussed in the discussion transcript, delimited with triple backticks.\n",
    "Check the following steps but don’t print each step only print what is asked:\n",
    "Step 1: Identify the topics discussed in the discussion transcript. Take the time to read the complete transcript, don’t\n",
    "take words as a whole argument, analyze the complete argument and then decide on the topic.\\\n",
    "Step 2: Analyze each topic (if there is more than one), and merge those into only one main topic.\n",
    "If there are topics that are as important as the main topic, display them as a second topic but only if it is linked with the\n",
    "main topic of discussion in the transcript. Only in this case, you can display more topics.\n",
    "Step 3: Extract the statements related to each topic.\n",
    "Step 4: State the necessary main topics of the entire transcript in a concise, descriptive sentence,\n",
    "in up to 3 words for each topic.\\\n",
    "Step 5: Provide the output in a JSON format where the key is the topic and the value is a list of statements made by the\n",
    "participants.\n",
    "Review transcript: '''{transcript}'''\n",
    "\"\"\""
   ]
  },
  {
   "cell_type": "code",
   "execution_count": 89,

   "id": "43435293",
   "metadata": {},
   "outputs": [],
   "source": [
    "topics = get_completion(prompt)"
   ]
  },
  {
   "cell_type": "code",
   "execution_count": 90,
   "id": "6626c30e",
   "metadata": {},
   "outputs": [
    {
     "name": "stdout",
     "output_type": "stream",
     "text": [
      "{'Social Media in Politics': ['The role of social media in political campaigns is a subject that has gained significant attention in recent years. It has become a powerful tool for politicians to engage with voters and spread their message. However, there are concerns about the spread of misinformation and the manipulation of public opinion through targeted ads.', 'I agree that social media provides a platform for political candidates to connect with a wider audience and mobilize support. However, the lack of regulation and transparency in political advertising on these platforms is a major issue that needs to be addressed.', 'I believe that social media has democratized political discourse and allowed marginalized voices to be heard. It provides a platform for grassroots movements and enables citizens to participate in political discussions like never before. We should focus on educating users about media literacy and critical thinking to combat misinformation.', 'While social media has its benefits, the algorithms used by these platforms tend to create echo chambers and reinforce existing biases. We need better regulation to ensure that diverse viewpoints are represented and to prevent the manipulation of public opinion through targeted content.'], 'Population Growth': [\"What are we gonna do about the rising population? We can't keep up.\", 'We could start by improving our public services, specifically health and education.', 'I think immigration policies should be stricter. There are too many people coming in.', 'Wait, but what if we focus on creating more jobs? More people means more workforce.', \"Let's not forget about housing. We need more and affordable homes.\", \"The environment! We can't ignore the impact of population growth on nature.\", 'What about promoting family planning programs? It has worked in some countries.']}\n",
      "dict_keys(['Social Media in Politics', 'Population Growth'])\n"
     ]
    }
   ],
   "source": [
    "topics_json = json.loads(topics)\n",
    "print(topics_json)\n",
    "print(topics_json.keys())"
   ]
  },
  {
   "cell_type": "markdown",
   "id": "dc4aa730",
   "metadata": {},
   "source": [
    "### Prompt for feature 2: viewpoints"
   ]
  },
  {
   "cell_type": "code",
   "execution_count": 91,
   "id": "35265aa1",
   "metadata": {},
   "outputs": [
    {
     "data": {
      "text/plain": [
       "dict_keys(['Social Media in Politics', 'Population Growth'])"
      ]
     },
     "execution_count": 91,
     "metadata": {},
     "output_type": "execute_result"
    }
   ],
   "source": [
    "topics_json.keys()"
   ]
  },
  {
   "cell_type": "code",
   "execution_count": 82,
   "id": "783e229c",
   "metadata": {},
   "outputs": [],
   "source": [
    "def get_viewpoints_by_topic(topics,transcript):\n",
    "    result = {}\n",
    "    for topic, excerpt in topics.items():\n",
    "        prompt = f\"\"\"\n",
    "        You are an assistant for group discussions, specialized on keeping track and documenting the discussion,\n",
    "        that is, the topics discussed, the viewpoints/positions on each topic and the arguments/explanations given in support of each viewpoint.\n",
    "        For the topic \"{topic}\"elimited by triple hashtags, analyse the corresponding excerpt from the discussion. \n",
    "        Your task is to identify all the viewpoints expressed on the topic. \n",
    "\n",
    "        Proceed according to the following steps:\n",
    "\n",
    "        Step 1: In the below discussion transcript, delimited by triple backticks, \n",
    "                locate the excerpt corresponding to the topic and consider the rest \n",
    "                of the transcript as context for the subsequent steps.\n",
    "        Step 2: Are there one or several viewpoints being expressed in the excerpt? \n",
    "                A \"viewpoint\" refers to \"one's perspective of opinion on a particular topic\".\n",
    "        Step 3: If there is only one viewpoint, summarize the viewpoint in 3 keywords max, \n",
    "                more keywords only if necessary to fully grasp the viewpoint. Viewpoint keywords \n",
    "                should be expressed as noun phrases that describe the viewpoint in a depersonalized manner. \n",
    "                For example, instead of “Supports Renewables”, the viewpoint keyword should be “Support for Renewables”. \n",
    "                Instead of “Believes in Traditional Energy”, the viewpoint keyword should be “Belief in Traditional Energy”.\n",
    "                \n",
    "                If there are several viewpoints, summarize each viewpoint in 3 keywords max, more keywords only if \n",
    "                necessary to fully grasp the topic. Viewpoint keywords should be expressed as noun phrases that describe \n",
    "                the viewpoint in a depersonalized manner, as explained in the instruction for one viewpoint.                 \n",
    "        Step 4: Disregard viewpoints that are not relevant to the current topic or more relevant to another topic. Only if a viewpoint is equally relevant to multiple topics, include it under all relevant topics. \n",
    "        Step 5: Identify any linkages between viewpoints that build upon each other or propose solutions to identified issues. For instance, if a viewpoint such as 'Media literacy and critical thinking' is expressed as a solution to the issue identified in another viewpoint like 'Concerns about misinformation', classify it as a sub-viewpoint of the latter. Represent these sub-viewpoints appropriately within the hierarchical structure of the result dictionary.\n",
    "        Step 6: Identify viewpoints that convey essentially the same stance on the topic. For example, viewpoints like 'Lack of regulation and transparency' and 'Need for better regulation' express similar concerns regarding the need for increased regulation in the domain. In such cases, merge these viewpoints into a single unified viewpoint that encapsulates both perspectives. Ensure this is reflected in the summary of viewpoints in the result dictionary.\n",
    "        Step 7: Append the topics-dictionary with the identified and summarized viewpoints as sub-keys and the corresponding discussion excerpts as values.Format the dictionary in JSON-format. \n",
    "        \n",
    "        Only include the appended dictionary in your response. \n",
    "        \n",
    "        ```{transcript}```\n",
    "        \"\"\"  \n",
    "        viewpoints = get_completion(prompt)\n",
    "        viewpoints_json = json.loads(viewpoints)\n",
    "        result.update(viewpoints_json)\n",
    "    return result"
   ]
  },
  {
   "cell_type": "code",
   "execution_count": 92,
   "id": "9572fd2a",
   "metadata": {},
   "outputs": [],
   "source": [
    "viewpoints_by_topics = get_viewpoints_by_topic(topics_json,transcript)"
   ]
  },
  {
   "cell_type": "code",
   "execution_count": 93,
   "id": "0e04b753",
   "metadata": {},
   "outputs": [
    {
     "data": {
      "text/plain": [
       "{'Social Media in Politics': {'Powerful tool for engagement': 'The role of social media in political campaigns is a subject that has gained significant attention in recent years. It has become a powerful tool for politicians to engage with voters and spread their message.',\n",
       "  'Concerns about misinformation': {'Lack of regulation and transparency': 'I agree that social media provides a platform for political candidates to connect with a wider audience and mobilize support. However, the lack of regulation and transparency in political advertising on these platforms is a major issue that needs to be addressed.',\n",
       "   'Media literacy and critical thinking': 'I believe that social media has democratized political discourse and allowed marginalized voices to be heard. It provides a platform for grassroots movements and enables citizens to participate in political discussions like never before. We should focus on educating users about media literacy and critical thinking to combat misinformation.'},\n",
       "  'Echo chambers and biases': 'While social media has its benefits, the algorithms used by these platforms tend to create echo chambers and reinforce existing biases. We need better regulation to ensure that diverse viewpoints are represented and to prevent the manipulation of public opinion through targeted content.'},\n",
       " 'Population Growth': {'Improving Public Services': 'We could start by improving our public services, specifically health and education.',\n",
       "  'Stricter Immigration Policies': 'I think immigration policies should be stricter. There are too many people coming in.',\n",
       "  'Job Creation': 'Wait, but what if we focus on creating more jobs? More people means more workforce.',\n",
       "  'Housing': \"Let's not forget about housing. We need more and affordable homes.\",\n",
       "  'Environmental Impact': \"The environment! We can't ignore the impact of population growth on nature.\",\n",
       "  'Family Planning Programs': 'What about promoting family planning programs? It has worked in some countries.'}}"
      ]
     },
     "execution_count": 93,
     "metadata": {},
     "output_type": "execute_result"
    }
   ],
   "source": [
    "viewpoints_by_topics"
   ]
  },
  {
   "cell_type": "code",
   "execution_count": 61,
   "id": "4bce9e7e",
   "metadata": {},
   "outputs": [],
   "source": [
    "def json_to_tree(viewpoints_by_topics):\n",
    "    def process_viewpoint(name, viewpoint, parent=None):\n",
    "        node = Node(name, parent=parent)\n",
    "        if isinstance(viewpoint, dict):\n",
    "            for sub_viewpoint, content in viewpoint.items():\n",
    "                process_viewpoint(sub_viewpoint, content, parent=node)\n",
    "        return node\n",
    "\n",
    "    for topic, viewpoints in viewpoints_by_topics.items():\n",
    "        topic_node = Node(topic)\n",
    "        for viewpoint, content in viewpoints.items():\n",
    "            process_viewpoint(viewpoint, content, parent=topic_node)\n",
    "        for pre, _, node in RenderTree(topic_node):\n",
    "            print(\"%s%s\" % (pre, node.name))\n",
    "\n",
    "\n"
   ]
  },
  {
   "cell_type": "code",
   "execution_count": 94,

   "id": "61a05393",
   "metadata": {
    "scrolled": true
   },
   "outputs": [
    {
     "name": "stdout",
     "output_type": "stream",
     "text": [
      "Social Media in Politics\n",
      "├── Powerful tool for engagement\n",
      "├── Concerns about misinformation\n",
      "│   ├── Lack of regulation and transparency\n",
      "│   └── Media literacy and critical thinking\n",
      "└── Echo chambers and biases\n",
      "Population Growth\n",
      "├── Improving Public Services\n",
      "├── Stricter Immigration Policies\n",
      "├── Job Creation\n",
      "├── Housing\n",
      "├── Environmental Impact\n",
      "└── Family Planning Programs\n"
     ]
    }
   ],
   "source": [
    "json_to_tree(viewpoints_by_topics)"
   ]
  },
  {
   "cell_type": "code",
   "execution_count": 64,

   "id": "616f67e3",

   "metadata": {},
   "outputs": [],
   "source": [
    "def json_to_mermaid(viewpoints_by_topics):\n",
    "    def process_viewpoint(name, viewpoint, parent=None):\n",
    "        nonlocal counter\n",
    "        node_id = f\"N{counter}\"\n",
    "        counter += 1\n",
    "        nodes[node_id] = name\n",
    "        if parent is not None:\n",
    "            edges.append(f\"{parent} --> {node_id}\")\n",
    "        if isinstance(viewpoint, dict):\n",
    "            for sub_viewpoint, content in viewpoint.items():\n",
    "                process_viewpoint(sub_viewpoint, content, parent=node_id)\n",
    "\n",
    "    counter = 0\n",
    "    nodes = {}\n",
    "    edges = []\n",
    "    for topic, viewpoints in viewpoints_by_topics.items():\n",
    "        topic_id = f\"N{counter}\"\n",
    "        nodes[topic_id] = topic\n",
    "        counter += 1\n",
    "        for viewpoint, content in viewpoints.items():\n",
    "            process_viewpoint(viewpoint, content, parent=topic_id)\n",
    "\n",
    "    mermaid_graph = \"graph TB\\n\"\n",
    "    for node_id, node_name in nodes.items():\n",
    "        mermaid_graph += f'  {node_id}[{node_name}]\\n'\n",
    "    for edge in edges:\n",
    "        mermaid_graph += f'  {edge}\\n'\n",
    "    for i in range(len(edges)):\n",
    "        mermaid_graph += f\"  linkStyle {i} stroke:#2ecd71,stroke-width:2px;\\n\"\n",
    "    return mermaid_graph\n"
   ]
  },
  {
   "cell_type": "code",
   "execution_count": 95,

   "id": "77083101",
   "metadata": {},
   "outputs": [
    {
     "name": "stdout",
     "output_type": "stream",
     "text": [
      "graph TB\n",
      "  N0[Social Media in Politics]\n",
      "  N1[Powerful tool for engagement]\n",
      "  N2[Concerns about misinformation]\n",
      "  N3[Lack of regulation and transparency]\n",
      "  N4[Media literacy and critical thinking]\n",
      "  N5[Echo chambers and biases]\n",
      "  N6[Population Growth]\n",
      "  N7[Improving Public Services]\n",
      "  N8[Stricter Immigration Policies]\n",
      "  N9[Job Creation]\n",
      "  N10[Housing]\n",
      "  N11[Environmental Impact]\n",
      "  N12[Family Planning Programs]\n",
      "  N0 --> N1\n",
      "  N0 --> N2\n",
      "  N2 --> N3\n",
      "  N2 --> N4\n",
      "  N0 --> N5\n",
      "  N6 --> N7\n",
      "  N6 --> N8\n",
      "  N6 --> N9\n",
      "  N6 --> N10\n",
      "  N6 --> N11\n",
      "  N6 --> N12\n",
      "  linkStyle 0 stroke:#2ecd71,stroke-width:2px;\n",
      "  linkStyle 1 stroke:#2ecd71,stroke-width:2px;\n",
      "  linkStyle 2 stroke:#2ecd71,stroke-width:2px;\n",
      "  linkStyle 3 stroke:#2ecd71,stroke-width:2px;\n",
      "  linkStyle 4 stroke:#2ecd71,stroke-width:2px;\n",
      "  linkStyle 5 stroke:#2ecd71,stroke-width:2px;\n",
      "  linkStyle 6 stroke:#2ecd71,stroke-width:2px;\n",
      "  linkStyle 7 stroke:#2ecd71,stroke-width:2px;\n",
      "  linkStyle 8 stroke:#2ecd71,stroke-width:2px;\n",
      "  linkStyle 9 stroke:#2ecd71,stroke-width:2px;\n",
      "  linkStyle 10 stroke:#2ecd71,stroke-width:2px;\n",
      "\n"
     ]
    }
   ],
   "source": [
    "print(json_to_mermaid(viewpoints_by_topics))"
   ]
  }
 ],
 "metadata": {
  "kernelspec": {
   "display_name": "Python 3 (ipykernel)",
   "language": "python",
   "name": "python3"
  },
  "language_info": {
   "codemirror_mode": {
    "name": "ipython",
    "version": 3
   },
   "file_extension": ".py",
   "mimetype": "text/x-python",
   "name": "python",
   "nbconvert_exporter": "python",
   "pygments_lexer": "ipython3",
   "version": "3.10.6"
  },
  "toc": {
   "base_numbering": 1,
   "nav_menu": {},
   "number_sections": true,
   "sideBar": true,
   "skip_h1_title": false,
   "title_cell": "Table of Contents",
   "title_sidebar": "Contents",
   "toc_cell": false,
   "toc_position": {},
   "toc_section_display": true,
   "toc_window_display": false
  }
 },
 "nbformat": 4,
 "nbformat_minor": 5
}
