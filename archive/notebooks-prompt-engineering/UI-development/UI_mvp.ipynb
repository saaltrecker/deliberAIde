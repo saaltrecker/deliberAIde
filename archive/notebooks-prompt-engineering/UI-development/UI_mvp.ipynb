{
 "cells": [
  {
   "cell_type": "code",
   "execution_count": 1,
   "id": "73564ea0",
   "metadata": {},
   "outputs": [
    {
     "name": "stdout",
     "output_type": "stream",
     "text": [
      "Collecting flask\n",
      "  Using cached Flask-2.3.2-py3-none-any.whl (96 kB)\n",
      "Collecting Werkzeug>=2.3.3 (from flask)\n",
      "  Using cached Werkzeug-2.3.4-py3-none-any.whl (242 kB)\n",
      "Requirement already satisfied: Jinja2>=3.1.2 in /Users/colmofuarthain/.pyenv/versions/3.10.6/envs/deliberAIde/lib/python3.10/site-packages (from flask) (3.1.2)\n",
      "Collecting itsdangerous>=2.1.2 (from flask)\n",
      "  Using cached itsdangerous-2.1.2-py3-none-any.whl (15 kB)\n",
      "Collecting click>=8.1.3 (from flask)\n",
      "  Using cached click-8.1.3-py3-none-any.whl (96 kB)\n",
      "Collecting blinker>=1.6.2 (from flask)\n",
      "  Using cached blinker-1.6.2-py3-none-any.whl (13 kB)\n",
      "Requirement already satisfied: MarkupSafe>=2.0 in /Users/colmofuarthain/.pyenv/versions/3.10.6/envs/deliberAIde/lib/python3.10/site-packages (from Jinja2>=3.1.2->flask) (2.1.3)\n",
      "Installing collected packages: Werkzeug, itsdangerous, click, blinker, flask\n",
      "Successfully installed Werkzeug-2.3.4 blinker-1.6.2 click-8.1.3 flask-2.3.2 itsdangerous-2.1.2\n"
     ]
    }
   ],
   "source": [
    "!pip install flask"
   ]
  },
  {
   "cell_type": "code",
   "execution_count": 2,
   "id": "d0f230fc",
   "metadata": {},
   "outputs": [
    {
     "name": "stdout",
     "output_type": "stream",
     "text": [
      "Requirement already satisfied: flask in /Users/colmofuarthain/.pyenv/versions/3.10.6/envs/deliberAIde/lib/python3.10/site-packages (2.3.2)\n",
      "Collecting flask-ngrok\n",
      "  Downloading flask_ngrok-0.0.25-py3-none-any.whl (3.1 kB)\n",
      "Requirement already satisfied: Werkzeug>=2.3.3 in /Users/colmofuarthain/.pyenv/versions/3.10.6/envs/deliberAIde/lib/python3.10/site-packages (from flask) (2.3.4)\n",
      "Requirement already satisfied: Jinja2>=3.1.2 in /Users/colmofuarthain/.pyenv/versions/3.10.6/envs/deliberAIde/lib/python3.10/site-packages (from flask) (3.1.2)\n",
      "Requirement already satisfied: itsdangerous>=2.1.2 in /Users/colmofuarthain/.pyenv/versions/3.10.6/envs/deliberAIde/lib/python3.10/site-packages (from flask) (2.1.2)\n",
      "Requirement already satisfied: click>=8.1.3 in /Users/colmofuarthain/.pyenv/versions/3.10.6/envs/deliberAIde/lib/python3.10/site-packages (from flask) (8.1.3)\n",
      "Requirement already satisfied: blinker>=1.6.2 in /Users/colmofuarthain/.pyenv/versions/3.10.6/envs/deliberAIde/lib/python3.10/site-packages (from flask) (1.6.2)\n",
      "Requirement already satisfied: requests in /Users/colmofuarthain/.pyenv/versions/3.10.6/envs/deliberAIde/lib/python3.10/site-packages (from flask-ngrok) (2.31.0)\n",
      "Requirement already satisfied: MarkupSafe>=2.0 in /Users/colmofuarthain/.pyenv/versions/3.10.6/envs/deliberAIde/lib/python3.10/site-packages (from Jinja2>=3.1.2->flask) (2.1.3)\n",
      "Requirement already satisfied: charset-normalizer<4,>=2 in /Users/colmofuarthain/.pyenv/versions/3.10.6/envs/deliberAIde/lib/python3.10/site-packages (from requests->flask-ngrok) (3.1.0)\n",
      "Requirement already satisfied: idna<4,>=2.5 in /Users/colmofuarthain/.pyenv/versions/3.10.6/envs/deliberAIde/lib/python3.10/site-packages (from requests->flask-ngrok) (3.4)\n",
      "Requirement already satisfied: urllib3<3,>=1.21.1 in /Users/colmofuarthain/.pyenv/versions/3.10.6/envs/deliberAIde/lib/python3.10/site-packages (from requests->flask-ngrok) (2.0.2)\n",
      "Requirement already satisfied: certifi>=2017.4.17 in /Users/colmofuarthain/.pyenv/versions/3.10.6/envs/deliberAIde/lib/python3.10/site-packages (from requests->flask-ngrok) (2023.5.7)\n",
      "Installing collected packages: flask-ngrok\n",
      "Successfully installed flask-ngrok-0.0.25\n"
     ]
    }
   ],
   "source": [
    "!pip install flask flask-ngrok"
   ]
  },
  {
   "cell_type": "code",
   "execution_count": null,
   "id": "3ac4150c",
   "metadata": {},
   "outputs": [
    {
     "name": "stdout",
     "output_type": "stream",
     "text": [
      " * Serving Flask app '__main__'\n",
      " * Debug mode: off\n"
     ]
    },
    {
     "name": "stderr",
     "output_type": "stream",
     "text": [
      "\u001b[31m\u001b[1mWARNING: This is a development server. Do not use it in a production deployment. Use a production WSGI server instead.\u001b[0m\n",
      " * Running on http://127.0.0.1:5000\n",
      "\u001b[33mPress CTRL+C to quit\u001b[0m\n",
      "127.0.0.1 - - [07/Jun/2023 10:46:56] \"GET / HTTP/1.1\" 200 -\n",
      "127.0.0.1 - - [07/Jun/2023 10:46:56] \"\u001b[33mGET /favicon.ico HTTP/1.1\u001b[0m\" 404 -\n",
      "Exception in thread Thread-5:\n",
      "Traceback (most recent call last):\n",
      "  File \"/Users/colmofuarthain/.pyenv/versions/3.10.6/lib/python3.10/threading.py\", line 1016, in _bootstrap_inner\n",
      "    self.run()\n",
      "  File \"/Users/colmofuarthain/.pyenv/versions/3.10.6/lib/python3.10/threading.py\", line 1378, in run\n",
      "    self.function(*self.args, **self.kwargs)\n",
      "  File \"/Users/colmofuarthain/.pyenv/versions/3.10.6/envs/deliberAIde/lib/python3.10/site-packages/flask_ngrok.py\", line 70, in start_ngrok\n",
      "    ngrok_address = _run_ngrok()\n",
      "  File \"/Users/colmofuarthain/.pyenv/versions/3.10.6/envs/deliberAIde/lib/python3.10/site-packages/flask_ngrok.py\", line 31, in _run_ngrok\n",
      "    ngrok = subprocess.Popen([executable, 'http', '5000'])\n",
      "  File \"/Users/colmofuarthain/.pyenv/versions/3.10.6/lib/python3.10/subprocess.py\", line 969, in __init__\n",
      "    self._execute_child(args, executable, preexec_fn, close_fds,\n",
      "  File \"/Users/colmofuarthain/.pyenv/versions/3.10.6/lib/python3.10/subprocess.py\", line 1845, in _execute_child\n",
      "    raise child_exception_type(errno_num, err_msg, err_filename)\n",
      "PermissionError: [Errno 13] Permission denied: '/var/folders/_z/j3znnlcx0w7_h1cbjrn3vys00000gn/T/ngrok/ngrok'\n"
     ]
    }
   ],
   "source": [
    "from flask import Flask, request\n",
    "from flask_ngrok import run_with_ngrok\n",
    "\n",
    "app = Flask(__name__)\n",
    "run_with_ngrok(app)  # Start ngrok when app is run\n",
    "\n",
    "@app.route('/', methods=['GET', 'POST'])  # This means your app will listen to this endpoint and it will allow GET and POST requests.\n",
    "def home():\n",
    "    if request.method == 'POST':\n",
    "        text = request.form['text']\n",
    "        # Now you have the input text. Pass this text to your model and get the result\n",
    "        output = your_model_function(text)\n",
    "        # Replace your_model_function with the actual function that you want to run on the input text\n",
    "\n",
    "        # Now return this output in the response\n",
    "        return 'Output: ' + output\n",
    "    return '''\n",
    "        <form method=\"POST\">\n",
    "            <textarea name=\"text\" cols=\"40\" rows=\"5\"></textarea>\n",
    "            <input type=\"submit\" value=\"Submit\">\n",
    "        </form>\n",
    "    '''\n",
    "\n",
    "if __name__ == '__main__':\n",
    "    app.run()\n"
   ]
  },
  {
   "cell_type": "code",
   "execution_count": null,
   "id": "82ab15e8",
   "metadata": {},
   "outputs": [],
   "source": []
  }
 ],
 "metadata": {
  "kernelspec": {
   "display_name": "Python 3 (ipykernel)",
   "language": "python",
   "name": "python3"
  },
  "language_info": {
   "codemirror_mode": {
    "name": "ipython",
    "version": 3
   },
   "file_extension": ".py",
   "mimetype": "text/x-python",
   "name": "python",
   "nbconvert_exporter": "python",
   "pygments_lexer": "ipython3",
   "version": "3.10.6"
  },
  "toc": {
   "base_numbering": 1,
   "nav_menu": {},
   "number_sections": true,
   "sideBar": true,
   "skip_h1_title": false,
   "title_cell": "Table of Contents",
   "title_sidebar": "Contents",
   "toc_cell": false,
   "toc_position": {},
   "toc_section_display": true,
   "toc_window_display": false
  }
 },
 "nbformat": 4,
 "nbformat_minor": 5
}
