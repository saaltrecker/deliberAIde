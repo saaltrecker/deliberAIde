{
 "cells": [
  {
   "cell_type": "code",
   "execution_count": 1,
   "id": "83d49f4c-d8ab-4b75-9c2e-71ea4b2452bc",
   "metadata": {},
   "outputs": [],
   "source": [
    "import openai\n",
    "import os\n",
    "import json\n",
    "from dotenv import load_dotenv, find_dotenv\n",
    "_ = load_dotenv(find_dotenv())"
   ]
  },
  {
   "cell_type": "code",
   "execution_count": 2,
   "id": "f444b4a4-de40-430c-854b-aea540c39aaa",
   "metadata": {},
   "outputs": [],
   "source": [
    "import pandas as pd"
   ]
  },
  {
   "cell_type": "code",
   "execution_count": 3,
   "id": "4850f7d0-a2c6-4020-aa4f-cb2778bcffcb",
   "metadata": {},
   "outputs": [],
   "source": [
    "openai.api_key = os.environ.get('OPENAI_API_KEY')"
   ]
  },
  {
   "cell_type": "code",
   "execution_count": 4,
   "id": "997daea0-eda7-4636-9f94-e224474a10e8",
   "metadata": {},
   "outputs": [],
   "source": [
    "def get_completion(prompt, model=\"gpt-4\"):\n",
    "    messages = [{\"role\": \"user\", \"content\": prompt}]\n",
    "    response = openai.ChatCompletion.create(\n",
    "        model=model,\n",
    "        messages=messages,\n",
    "        temperature=0, # this is the degree of randomness of the model's output\n",
    "    )\n",
    "    return response.choices[0].message[\"content\"]"
   ]
  },
  {
   "cell_type": "code",
   "execution_count": 5,
   "id": "071be45a-adfb-4cbd-a536-c40d046cc33a",
   "metadata": {},
   "outputs": [],
   "source": [
    "transcript = f\"\"\"\n",
    "Participant 1: \"Animal testing is necessary for medical research. It has contributed to numerous medical advancements and the \n",
    "development of life-saving treatments.\" \n",
    "Participant 2: \"While I understand the importance of medical research, \n",
    "we should also consider the ethical concerns associated with animal testing. Animals deserve to be treated with \n",
    "compassion and should not suffer for the sake of human benefits.\" \n",
    "Participant 3: \"There are alternatives to animal testing, such as in vitro testing and computer simulations, that can provide reliable results without causing harm \n",
    "to animals. We should prioritize the development and adoption of these alternatives.\" \n",
    "Participant 4: \"Animal testing should be regulated and minimized, but we cannot completely eliminate it at this stage. Striking a balance between scientific \n",
    "progress and animal welfare is crucial.\" \n",
    "Participant 5: \"We need more transparency and accountability in animal testing.\n",
    "Researchers should provide clear justifications for using animals and ensure that it is conducted in the most humane way \n",
    "possible.\"\"\""
   ]
  },
  {
   "cell_type": "code",
   "execution_count": 6,
   "id": "0ded7d19-5a9b-494c-afdd-322d7e4c1744",
   "metadata": {},
   "outputs": [],
   "source": [
    "transcript_2 = f\"\"\"\n",
    "<br>Participant 1: \"The role of social media in political campaigns is a subject that has gained significant attention in recent \n",
    "years. It has become a powerful tool for politicians to engage with voters and spread their message. \n",
    "However, there are concerns about the spread of misinformation and the manipulation of public opinion through targeted ads.\" \n",
    "<br>Participant 2: \"I agree that social media provides a platform for political candidates to connect with a wider audience and \n",
    "mobilize support. However, the lack of regulation and transparency in political advertising on these platforms is a major \n",
    "issue that needs to be addressed.\" \n",
    "<br>Participant 3: \"I believe that social media has democratized political discourse and \n",
    "allowed marginalized voices to be heard. It provides a platform for grassroots movements and enables citizens to \n",
    "participate in political discussions like never before. We should focus on educating users about media literacy and critical \n",
    "thinking to combat misinformation.\" \n",
    "<br>Participant 4: \"While social media has its benefits, the algorithms used by these platforms tend to create echo chambers and \n",
    "reinforce existing biases. We need better regulation to ensure that diverse viewpoints are represented and to prevent the \n",
    "manipulation of public opinion through targeted content.\n",
    "\"\"\""
   ]
  },
  {
   "cell_type": "code",
   "execution_count": 7,
   "id": "ed0d53c6-c4c5-4ce7-8ceb-b017a101981b",
   "metadata": {},
   "outputs": [],
   "source": [
    "transcript_3 = f\"\"\"\n",
    "<br>Speaker 1: \"We've seen a rise in youth violence in our community, and I'm worried. Maybe some sort of mentoring program \n",
    "could make a difference?\" \n",
    "<br>Speaker 2: \"Mentoring? Really? In my opinion, we need more police presence. That's the only language these kids understand.\" \n",
    "<br>Speaker 3: \"I wouldn't discount the value of a mentoring program so quickly. The problem isn't just law enforcement, but also \n",
    "social issues. Addressing those might help.\" \n",
    "<br>Speaker 4: \"If you ask me, this is a problem that begins at home. Many of these kids lack a good family structure. We need \n",
    "programs that support families too.\" \n",
    "<br>Speaker 5: \"All these are good points, but what about the role of schools? They're underfunded and struggling to offer good \n",
    "education and extracurricular activities.\" \n",
    "<br>Speaker 6: \"Yes, and we also have to remember the role of peer pressure in youth violence. We need programs that teach our \n",
    "kids about healthy relationships and choices.\"\n",
    "\"\"\""
   ]
  },
  {
   "cell_type": "code",
   "execution_count": 8,
   "id": "6dd26652-c8b2-4bc7-adbf-32f6e451d853",
   "metadata": {},
   "outputs": [],
   "source": [
    "transcript_4 = f\"\"\"\n",
    "Participant 1: \"The debate around the legalization of recreational marijuana has been a hot topic recently. I personally think it's \n",
    "high time we embraced this change. It could be a new source of tax revenue and reduce crime related to illegal drug \n",
    "trafficking.\" \n",
    "Participant 2: \"I agree with the economic benefits, P1, but aren't we forgetting about the public health implications? Increased \n",
    "accessibility might lead to misuse and addiction. I'm worried about our youth.\" \n",
    "Participant 3: \"The public health concern is valid, P2. But, alcohol and tobacco are legal and potentially harmful too, isn't it a \n",
    "matter of personal responsibility and proper regulation?\" \n",
    "Participant 4: \"P3 makes a good point. Regulation is the key. Maybe we can use some of the tax revenue for public health campaigns \n",
    "and addiction treatment services?\" \n",
    "Participant 5: \"And let's not forget, legalization also means we can have quality control standards for marijuana, which isn't \n",
    "possible now. It might actually make it safer.\" \n",
    "Participant 6: \"True, but there's also the image issue. We don't want to be seen as a city promoting drug use, do we?\" \n",
    "Participant 7: \"It's a tricky decision indeed. Maybe we should hold a citywide referendum and let our citizens decide? \n",
    "In the meantime, we should gather more data and engage experts in public health, law enforcement and economic policy to \n",
    "ensure we have all the facts.\"\n",
    "\"\"\""
   ]
  },
  {
   "cell_type": "code",
   "execution_count": 9,
   "id": "b84484c4-546a-4c68-bcfa-065b346a1ce4",
   "metadata": {},
   "outputs": [],
   "source": [
    "transcript_5 = f\"\"\"\n",
    "Participant 1: \"What are we gonna do about the rising population? We can't keep up.\"  \n",
    "Participant 2: \"We could start by improving our public services, specifically health and education.\" \n",
    "Participant 3: \"I think immigration policies should be stricter. There are too many people coming in.\"  \n",
    "Participant 4: \"Wait, but what if we focus on creating more jobs? More people means more workforce.\" \n",
    "Participant 5: \"Let's not forget about housing. We need more and affordable homes.\" \n",
    "Participant 6: \"The environment! We can't ignore the impact of population growth on nature.\" \n",
    "Participant 7: \"What about promoting family planning programs? It has worked in some countries.\"\n",
    "\"\"\""
   ]
  },
  {
   "cell_type": "code",
   "execution_count": 10,
   "id": "bbd5b49c-68a4-4e8e-bef9-d3abacafac44",
   "metadata": {},
   "outputs": [],
   "source": [
    "transcript_6 = f\"\"\"\n",
    "Participant 1: \" The use of facial recognition technology poses significant ethical concerns and risks to personal privacy. \n",
    "It can lead to mass surveillance, abuse of power, and unjust profiling.\" \n",
    "Participant 2: \"Facial recognition technology has \n",
    "its benefits in enhancing security, improving convenience, and aiding law enforcement. It can help prevent crime, identify \n",
    "suspects, and protect public safety.\" \n",
    "Participant 3: \"Facial recognition technology should be strictly regulated and subject \n",
    "to clear guidelines to prevent misuse and protect individual rights. Transparency, accountability, and informed consent are \n",
    "crucial in its implementation.\" \n",
    "Participant 4: \"We need to strike a balance between the potential benefits and risks of \n",
    "facial recognition technology. It should be used responsibly and with proper safeguards to mitigate privacy concerns and \n",
    "protect civil liberties.\" \n",
    "Participant 5: \"Facial recognition technology has the potential to revolutionize various industries, \n",
    "including healthcare, banking, and customer service. Its accurate identification capabilities can improve efficiency and \n",
    "deliver personalized experiences.\n",
    "\"\"\""
   ]
  },
  {
   "cell_type": "markdown",
   "id": "a5ec6637-6326-414e-8e62-5809bc63bf4e",
   "metadata": {},
   "source": [
    "### PROMPT TOPICS!!"
   ]
  },
  {
   "cell_type": "code",
   "execution_count": 24,
   "id": "854d3e0d-e3ba-47a8-a931-91947af974e6",
   "metadata": {},
   "outputs": [],
   "source": [
    "prompt = f\"\"\"\n",
    "You are an assistant for group discussions, specializing in keeping track of and documenting the discussion,/\n",
    "that is, the topics discussed, the viewpoints/positions on each topic, and the arguments/explanations given in support of each viewpoint./\n",
    "Identify the topics discussed in the discussion transcript, delimited with triple backticks.\n",
    "Check the following steps but don’t print each step only print what is asked:\n",
    "Step 1: Identify the topics discussed in the discussion transcript. Take the time to read the complete transcript, don’t\n",
    "take words as a whole argument, analyze the complete argument and then decide on the topic.\\\n",
    "Step 2: Analyze each topic (if there is more than one), and merge those into only one main topic.\n",
    "If there are topics that are as important as the main topic, display them as a second topic but only if it is linked with the\n",
    "main topic of discussion in the transcript. Only in this case, you can display more topics.\n",
    "Step 3: Extract the statements related to each topic.\n",
    "Step 4: State the necessary main topics of the entire transcript in a concise, descriptive sentence,\n",
    "in up to 3 words for each topic.\\\n",
    "Step 5: Provide the output in a JSON format where the key is the topic and the value is a list of statements made by the\n",
    "participants.\n",
    "Review transcript: '''{transcript}'''\n",
    "\"\"\""
   ]
  },
  {
   "cell_type": "code",
   "execution_count": 25,
   "id": "653c51de-013e-4729-b02c-4f7c05c89e77",
   "metadata": {},
   "outputs": [],
   "source": [
    "topics = get_completion(prompt)"
   ]
  },
  {
   "cell_type": "code",
   "execution_count": 26,
   "id": "831e344c-6ca1-4a0f-a40a-7190bffd6a6b",
   "metadata": {},
   "outputs": [
    {
     "name": "stdout",
     "output_type": "stream",
     "text": [
      "{'Animal Testing': ['Animal testing is necessary for medical research. It has contributed to numerous medical advancements and the development of life-saving treatments.', 'While I understand the importance of medical research, we should also consider the ethical concerns associated with animal testing. Animals deserve to be treated with compassion and should not suffer for the sake of human benefits.', 'There are alternatives to animal testing, such as in vitro testing and computer simulations, that can provide reliable results without causing harm to animals. We should prioritize the development and adoption of these alternatives.', 'Animal testing should be regulated and minimized, but we cannot completely eliminate it at this stage. Striking a balance between scientific progress and animal welfare is crucial.', 'We need more transparency and accountability in animal testing. Researchers should provide clear justifications for using animals and ensure that it is conducted in the most humane way possible.']}\n",
      "dict_keys(['Animal Testing'])\n"
     ]
    }
   ],
   "source": [
    "topics_json = json.loads(topics)\n",
    "print(topics_json)\n",
    "print(topics_json.keys())"
   ]
  },
  {
   "cell_type": "markdown",
   "id": "e515af6d-0bda-423d-ac36-46ca9833b113",
   "metadata": {},
   "source": [
    "### Prompt vewpoints"
   ]
  },
  {
   "cell_type": "code",
   "execution_count": 27,
   "id": "fa10d492-2f32-47f5-89cc-bf5e6ec773d5",
   "metadata": {},
   "outputs": [
    {
     "data": {
      "text/plain": [
       "dict_keys(['Animal Testing'])"
      ]
     },
     "execution_count": 27,
     "metadata": {},
     "output_type": "execute_result"
    }
   ],
   "source": [
    "topics_json.keys()"
   ]
  },
  {
   "cell_type": "code",
   "execution_count": 28,
   "id": "f5418039-943f-4ff9-a84f-b6d37029b465",
   "metadata": {},
   "outputs": [],
   "source": [
    "def get_viewpoints_by_topic(topics,transcript):\n",
    "    result = {}\n",
    "    for topic, excerpt in topics.items():\n",
    "        prompt = f'''\n",
    "        You are an assistant for group discussions, specialized on keeping track and documenting the discussion,\n",
    "        that is, the topics discussed, the viewpoints/positions on each topic and the arguments/explanations given in support of each viewpoint.\n",
    "        For the topic \"{topic}\"elimited by triple hashtags, analyse the corresponding excerpt from the discussion. \n",
    "        Your task is to identify all the viewpoints expressed on the topic. \n",
    "\n",
    "        Proceed according to the following steps:\n",
    "\n",
    "        Step 1: In the below discussion transcript, delimited by triple backticks, \n",
    "                locate the excerpt corresponding to the topic and consider the rest \n",
    "                of the transcript as context for the subsequent steps.\n",
    "        Step 2: Are there one or several viewpoints being expressed in the excerpt? \n",
    "                A \"viewpoint\" refers to \"one's perspective of opinion on a particular topic\".\n",
    "        Step 3: If there is only one viewpoint, summarize the viewpoint in 3 keywords max, \n",
    "                more keywords only if necessary to fully grasp the viewpoint. Viewpoint keywords \n",
    "                should be expressed as noun phrases that describe the viewpoint in a depersonalized manner. \n",
    "                For example, instead of “Supports Renewables”, the viewpoint keyword should be “Support for Renewables”. \n",
    "                Instead of “Believes in Traditional Energy”, the viewpoint keyword should be “Belief in Traditional Energy”.\n",
    "                \n",
    "                If there are several viewpoints, summarize each viewpoint in 3 keywords max, more keywords only if \n",
    "                necessary to fully grasp the topic. Viewpoint keywords should be expressed as noun phrases that describe \n",
    "                the viewpoint in a depersonalized manner, as explained in the instruction for one viewpoint.                 \n",
    "        Step 4: Disregard viewpoints that are not relevant to the current topic or more relevant to another topic. Only if a viewpoint is equally relevant to multiple topics, include it under all relevant topics. \n",
    "        Step 5: Identify any linkages between viewpoints that build upon each other or propose solutions to identified issues. For instance, if a viewpoint such as 'Media literacy and critical thinking' is expressed as a solution to the issue identified in another viewpoint like 'Concerns about misinformation', classify it as a sub-viewpoint of the latter. Represent these sub-viewpoints appropriately within the hierarchical structure of the result dictionary.\n",
    "        Step 6: Identify viewpoints that convey essentially the same stance on the topic. For example, viewpoints like 'Lack of regulation and transparency' and 'Need for better regulation' express similar concerns regarding the need for increased regulation in the domain. In such cases, merge these viewpoints into a single unified viewpoint that encapsulates both perspectives. Ensure this is reflected in the summary of viewpoints in the result dictionary.\n",
    "        Step 7: Append the topics-dictionary with the identified and summarized viewpoints as sub-keys and the corresponding discussion excerpts as values.Format the dictionary in JSON-format. \n",
    "        \n",
    "        Only include the appended dictionary in your response. \n",
    "        \n",
    "        ```{transcript}```\n",
    "        '''  \n",
    "        viewpoints = get_completion(prompt)\n",
    "        viewpoints_json = json.loads(viewpoints)\n",
    "        result.update(viewpoints_json)\n",
    "    return result"
   ]
  },
  {
   "cell_type": "code",
   "execution_count": 29,
   "id": "097478d0-eb7b-4643-9edf-1d024f7becd7",
   "metadata": {},
   "outputs": [],
   "source": [
    "viewpoints_by_topics = get_viewpoints_by_topic(topics_json,transcript)"
   ]
  },
  {
   "cell_type": "code",
   "execution_count": 30,
   "id": "dda6a0a2-a319-4b67-a029-8ede9303eda8",
   "metadata": {},
   "outputs": [
    {
     "data": {
      "text/plain": [
       "{'Animal Testing': {'Necessity for medical research': 'Participant 1: \"Animal testing is necessary for medical research. It has contributed to numerous medical advancements and the development of life-saving treatments.\"',\n",
       "  'Ethical concerns': 'Participant 2: \"While I understand the importance of medical research, we should also consider the ethical concerns associated with animal testing. Animals deserve to be treated with compassion and should not suffer for the sake of human benefits.\"',\n",
       "  'Alternatives to animal testing': 'Participant 3: \"There are alternatives to animal testing, such as in vitro testing and computer simulations, that can provide reliable results without causing harm to animals. We should prioritize the development and adoption of these alternatives.\"',\n",
       "  'Regulation and minimization': {'Striking a balance': 'Participant 4: \"Animal testing should be regulated and minimized, but we cannot completely eliminate it at this stage. Striking a balance between scientific progress and animal welfare is crucial.\"',\n",
       "   'Transparency and accountability': 'Participant 5: \"We need more transparency and accountability in animal testing. Researchers should provide clear justifications for using animals and ensure that it is conducted in the most humane way possible.\"'}}}"
      ]
     },
     "execution_count": 30,
     "metadata": {},
     "output_type": "execute_result"
    }
   ],
   "source": [
    "viewpoints_by_topics"
   ]
  },
  {
   "cell_type": "markdown",
   "id": "a4c229a1-d224-45ff-9264-77760bd10e26",
   "metadata": {},
   "source": [
    "### Prompt Arguments"
   ]
  },
  {
   "cell_type": "code",
   "execution_count": 37,
   "id": "eb6eea4a-4a5a-4e08-9109-9dfa0b916a48",
   "metadata": {},
   "outputs": [
    {
     "name": "stdout",
     "output_type": "stream",
     "text": [
      "{\n",
      "  \"Animal Testing\": {\n",
      "    \"Necessity for medical research\": [\n",
      "      \"Animal testing has led to numerous medical advancements and life-saving treatments\"\n",
      "    ],\n",
      "    \"Ethical concerns\": [\n",
      "      \"Animals deserve compassion and should not suffer for human benefits\"\n",
      "    ],\n",
      "    \"Alternatives to animal testing\": [\n",
      "      \"In vitro testing and computer simulations can provide reliable results without harming animals\"\n",
      "    ],\n",
      "    \"Regulation and minimization\": {\n",
      "      \"Striking a balance\": [\n",
      "        \"A balance between scientific progress and animal welfare is crucial\"\n",
      "      ],\n",
      "      \"Transparency and accountability\": [\n",
      "        \"Researchers should justify animal use and ensure humane treatment\"\n",
      "      ]\n",
      "    }\n",
      "  }\n",
      "}\n"
     ]
    }
   ],
   "source": [
    "Prompt_arguments_2 = f'''\n",
    "You are an assistant for group discussions, specialized on keeping track and documenting the discussion, that is, the topics \n",
    "discussed, the viewpoints/positions on each topic, and the arguments/explanations given in support of each viewpoint.\n",
    "\n",
    "The topics and viewpoints have already been analyzed previously. Your task is to focus on getting arguments corresponding\n",
    "from the transcript.\n",
    "\n",
    "Check the following steps but don't print each step only print what is asked:\n",
    "\n",
    "Step 1: Get the arguments from the transcript. Do not copy and paste the same text from the transcript. \n",
    "        Analyze and understand the transcript and create short arguments that are able to explain very precise the viewpoints. \n",
    "        Generate arguments in a concise and descriptive way.\\\n",
    "Step 2: Get the viewpoints from the dictionary {viewpoints_by_topics} and understand them.\\\n",
    "Step 3: Link each argument with a viewpoint.\\\n",
    "Step 4: Read again the arguments, are they really explaining the viewpoints? if not replace the arguments that are not explained properly\n",
    "and replace them for others that are more meaningful.\\ \n",
    "Step 4: Change the values from the {viewpoints_by_topics} for the arguments chosen. Each viewpoint should have at least one argument.\\ \n",
    "Step 5: Create your output in a JSON format. Follow this structure:\n",
    "\n",
    "        {{\n",
    "          \"Topic\": {{\n",
    "            \"Viewpoint 1\": [\n",
    "              \"Argument 1\",\n",
    "              \"Argument 2\",\n",
    "              \"Argument 3\"\n",
    "            ],\n",
    "            \"Viewpoint 2\": [\n",
    "              \"Argument 4\",\n",
    "              \"Argument 5\"\n",
    "            ],\n",
    "            \"Viewpoint 3\": [\n",
    "              \"Argument 6\"\n",
    "            ]\n",
    "            }}\n",
    "        }}\n",
    "        \\\n",
    "        \n",
    "Step 6: You should take into account that there are transcripts that have only one topic. You should not create new topics, \n",
    "        take the information from the {viewpoints_by_topics} and add the argument to each viewpoint. Remember, don't copy-paste\n",
    "        the text in the transcript, generate smart arguments.\\ \n",
    "\n",
    "Step 7: Print.\\\n",
    "\n",
    "Review transcript: \"\"\"{transcript}\"\"\"\n",
    "\n",
    "'''\n",
    "arguments_2 = get_completion(Prompt_arguments_2)\n",
    "print(arguments_2)"
   ]
  },
  {
   "cell_type": "code",
   "execution_count": null,
   "id": "eccd9b6f-ccf8-4e82-8eca-feba11a452dd",
   "metadata": {},
   "outputs": [],
   "source": [
    "transcript = f\"\"\"\n",
    "Participant 1: \"Animal testing is necessary for medical research. It has contributed to numerous medical advancements and the \n",
    "development of life-saving treatments.\" \n",
    "Participant 2: \"While I understand the importance of medical research, \n",
    "we should also consider the ethical concerns associated with animal testing. Animals deserve to be treated with \n",
    "compassion and should not suffer for the sake of human benefits.\" \n",
    "Participant 3: \"There are alternatives to animal testing, such as in vitro testing and computer simulations, that can provide reliable results without causing harm \n",
    "to animals. We should prioritize the development and adoption of these alternatives.\" \n",
    "Participant 4: \"Animal testing should be regulated and minimized, but we cannot completely eliminate it at this stage. Striking a balance between scientific \n",
    "progress and animal welfare is crucial.\" \n",
    "Participant 5: \"We need more transparency and accountability in animal testing.\n",
    "Researchers should provide clear justifications for using animals and ensure that it is conducted in the most humane way \n",
    "possible.\"\"\""
   ]
  }
 ],
 "metadata": {
  "kernelspec": {
   "display_name": "Python 3 (ipykernel)",
   "language": "python",
   "name": "python3"
  },
  "language_info": {
   "codemirror_mode": {
    "name": "ipython",
    "version": 3
   },
   "file_extension": ".py",
   "mimetype": "text/x-python",
   "name": "python",
   "nbconvert_exporter": "python",
   "pygments_lexer": "ipython3",
   "version": "3.10.6"
  }
 },
 "nbformat": 4,
 "nbformat_minor": 5
}
