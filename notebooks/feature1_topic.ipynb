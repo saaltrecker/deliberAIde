{
 "cells": [
  {
   "cell_type": "code",
   "execution_count": 1,
   "id": "83d49f4c-d8ab-4b75-9c2e-71ea4b2452bc",
   "metadata": {},
   "outputs": [],
   "source": [
    "import pandas as pd"
   ]
  },
  {
   "cell_type": "code",
   "execution_count": 4,
   "id": "f444b4a4-de40-430c-854b-aea540c39aaa",
   "metadata": {},
   "outputs": [],
   "source": [
    "data = pd.read_csv('/Users/armcortz/code/saaltrecker/DeliberAIde/data/transcripts.csv', encoding='latin1')"
   ]
  },
  {
   "cell_type": "code",
   "execution_count": 9,
   "id": "f91586ee-2209-40a2-9374-07667f7be507",
   "metadata": {},
   "outputs": [
    {
     "data": {
      "text/plain": [
       "Transcript (X)                          738\n",
       "Topics (y1)                              25\n",
       "Viewpoint Extraction (y2)                 3\n",
       "Argument Extraction and Summary (y3)      0\n",
       "dtype: int64"
      ]
     },
     "execution_count": 9,
     "metadata": {},
     "output_type": "execute_result"
    }
   ],
   "source": [
    "data.isnull().sum()"
   ]
  }
 ],
 "metadata": {
  "kernelspec": {
   "display_name": "Python 3 (ipykernel)",
   "language": "python",
   "name": "python3"
  },
  "language_info": {
   "codemirror_mode": {
    "name": "ipython",
    "version": 3
   },
   "file_extension": ".py",
   "mimetype": "text/x-python",
   "name": "python",
   "nbconvert_exporter": "python",
   "pygments_lexer": "ipython3",
   "version": "3.10.6"
  }
 },
 "nbformat": 4,
 "nbformat_minor": 5
}
