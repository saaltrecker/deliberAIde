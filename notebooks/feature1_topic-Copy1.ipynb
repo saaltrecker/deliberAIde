{
 "cells": [
  {
   "cell_type": "code",
   "execution_count": 13,
   "id": "83d49f4c-d8ab-4b75-9c2e-71ea4b2452bc",
   "metadata": {},
   "outputs": [],
   "source": [
    "import openai\n",
    "import os\n"
   ]
  },
  {
   "cell_type": "code",
   "execution_count": 14,
   "id": "f444b4a4-de40-430c-854b-aea540c39aaa",
   "metadata": {},
   "outputs": [],
   "source": [
    "import pandas as pd"
   ]
  },
  {
   "cell_type": "code",
   "execution_count": 15,
   "id": "4850f7d0-a2c6-4020-aa4f-cb2778bcffcb",
   "metadata": {},
   "outputs": [],
   "source": [
    "openai.api_key = os.environ.get('OPENAI_API_KEY')"
   ]
  },
  {
   "cell_type": "code",
   "execution_count": 16,
   "id": "997daea0-eda7-4636-9f94-e224474a10e8",
   "metadata": {},
   "outputs": [],
   "source": [
    "def get_completion(prompt, model=\"gpt-4\"):\n",
    "    messages = [{\"role\": \"user\", \"content\": prompt}]\n",
    "    response = openai.ChatCompletion.create(\n",
    "        model=model,\n",
    "        messages=messages,\n",
    "        temperature=0, # this is the degree of randomness of the model's output\n",
    "    )\n",
    "    return response.choices[0].message[\"content\"]"
   ]
  },
  {
   "cell_type": "code",
   "execution_count": 17,
   "id": "071be45a-adfb-4cbd-a536-c40d046cc33a",
   "metadata": {},
   "outputs": [],
   "source": [
    "transcript = f\"\"\"\n",
    "Participant 1: \"Animal testing is necessary for medical research. It has contributed to numerous medical advancements and the \n",
    "development of life-saving treatments.\" \n",
    "Participant 2: \"While I understand the importance of medical research, \n",
    "we should also consider the ethical concerns associated with animal testing. Animals deserve to be treated with \n",
    "compassion and should not suffer for the sake of human benefits.\" \n",
    "Participant 3: \"There are alternatives to animal testing, such as in vitro testing and computer simulations, that can provide reliable results without causing harm \n",
    "to animals. We should prioritize the development and adoption of these alternatives.\" \n",
    "Participant 4: \"Animal testing should be regulated and minimized, but we cannot completely eliminate it at this stage. Striking a balance between scientific \n",
    "progress and animal welfare is crucial.\" \n",
    "Participant 5: \"We need more transparency and accountability in animal testing.\n",
    "Researchers should provide clear justifications for using animals and ensure that it is conducted in the most humane way \n",
    "possible.\"\"\""
   ]
  },
  {
   "cell_type": "code",
   "execution_count": 6,
   "id": "0ded7d19-5a9b-494c-afdd-322d7e4c1744",
   "metadata": {},
   "outputs": [],
   "source": [
    "transcript_2 = f\"\"\"\n",
    "<br>Participant 1: \"The role of social media in political campaigns is a subject that has gained significant attention in recent \n",
    "years. It has become a powerful tool for politicians to engage with voters and spread their message. \n",
    "However, there are concerns about the spread of misinformation and the manipulation of public opinion through targeted ads.\" \n",
    "<br>Participant 2: \"I agree that social media provides a platform for political candidates to connect with a wider audience and \n",
    "mobilize support. However, the lack of regulation and transparency in political advertising on these platforms is a major \n",
    "issue that needs to be addressed.\" \n",
    "<br>Participant 3: \"I believe that social media has democratized political discourse and \n",
    "allowed marginalized voices to be heard. It provides a platform for grassroots movements and enables citizens to \n",
    "participate in political discussions like never before. We should focus on educating users about media literacy and critical \n",
    "thinking to combat misinformation.\" \n",
    "<br>Participant 4: \"While social media has its benefits, the algorithms used by these platforms tend to create echo chambers and \n",
    "reinforce existing biases. We need better regulation to ensure that diverse viewpoints are represented and to prevent the \n",
    "manipulation of public opinion through targeted content.\n",
    "\"\"\""
   ]
  },
  {
   "cell_type": "code",
   "execution_count": 7,
   "id": "ed0d53c6-c4c5-4ce7-8ceb-b017a101981b",
   "metadata": {},
   "outputs": [],
   "source": [
    "transcript_3 = f\"\"\"\n",
    "<br>Speaker 1: \"We've seen a rise in youth violence in our community, and I'm worried. Maybe some sort of mentoring program \n",
    "could make a difference?\" \n",
    "<br>Speaker 2: \"Mentoring? Really? In my opinion, we need more police presence. That's the only language these kids understand.\" \n",
    "<br>Speaker 3: \"I wouldn't discount the value of a mentoring program so quickly. The problem isn't just law enforcement, but also \n",
    "social issues. Addressing those might help.\" \n",
    "<br>Speaker 4: \"If you ask me, this is a problem that begins at home. Many of these kids lack a good family structure. We need \n",
    "programs that support families too.\" \n",
    "<br>Speaker 5: \"All these are good points, but what about the role of schools? They're underfunded and struggling to offer good \n",
    "education and extracurricular activities.\" \n",
    "<br>Speaker 6: \"Yes, and we also have to remember the role of peer pressure in youth violence. We need programs that teach our \n",
    "kids about healthy relationships and choices.\"\n",
    "\"\"\""
   ]
  },
  {
   "cell_type": "code",
   "execution_count": 8,
   "id": "6dd26652-c8b2-4bc7-adbf-32f6e451d853",
   "metadata": {},
   "outputs": [],
   "source": [
    "transcript_4 = f\"\"\"\n",
    "Speaker 1: \"We've seen a rise in youth violence in our community, and I'm worried. Maybe some sort of a mentoring program \n",
    "could make a difference?\" \n",
    "Speaker 2: \"Mentoring? Really? In my opinion, we need more police presence. That's the only language these kids understand.\" \n",
    "Speaker 3: \"I wouldn't discount the value of a mentoring program so quickly. The problem isn't just law enforcement, \n",
    "but also social issues. Addressing those might help.\" \n",
    "Speaker 4: \"If you ask me, this is a problem that begins at home. Many of these kids lack a good family structure. \n",
    "We need programs that support families too.\" \n",
    "Speaker 5: \"All these are good points, but what about the role of schools? They're underfunded and struggling to offer \n",
    "good education and extracurricular activities.\" \n",
    "Speaker 6: \"Yes, and we also have to remember the role of peer pressure in youth violence. We need programs that teach our\n",
    "kids about healthy relationships and choices.\"\n",
    "\"\"\""
   ]
  },
  {
   "cell_type": "code",
   "execution_count": 9,
   "id": "b84484c4-546a-4c68-bcfa-065b346a1ce4",
   "metadata": {},
   "outputs": [],
   "source": [
    "transcript_5 = f\"\"\"\n",
    "Participant 1: \"What are we gonna do about the rising population? We can't keep up.\"  \n",
    "Participant 2: \"We could start by improving our public services, specifically health and education.\" \n",
    "Participant 3: \"I think immigration policies should be stricter. There are too many people coming in.\"  \n",
    "Participant 4: \"Wait, but what if we focus on creating more jobs? More people means more workforce.\" \n",
    "Participant 5: \"Let's not forget about housing. We need more and affordable homes.\" \n",
    "Participant 6: \"The environment! We can't ignore the impact of population growth on nature.\" \n",
    "Participant 7: \"What about promoting family planning programs? It has worked in some countries.\"\n",
    "\"\"\""
   ]
  },
  {
   "cell_type": "code",
   "execution_count": 18,
   "id": "bbd5b49c-68a4-4e8e-bef9-d3abacafac44",
   "metadata": {},
   "outputs": [],
   "source": [
    "def get_topics(transcript):\n",
    "    \n",
    "    prompt_topic = f\"\"\"\n",
    "    You are an assistant for group discussions, specializing in keeping track of and documenting the discussion,/\n",
    "    that is, the topics discussed, the viewpoints/positions on each topic, and the arguments/explanations given in support of each viewpoint./\n",
    "    \n",
    "    Identify the topics discussed in the discussion transcript, delimited with triple backticks.\n",
    "    \n",
    "    Check the following steps but don't print each step only print what is asked:\n",
    "    \n",
    "    Step 1: Identify the topics discussed in the discussion transcript. Take the time to read the complete transcript, don't \n",
    "            take words as a whole argument, analyze the complete argument and then decide on the topic.\\ \n",
    "    Step 2: Analyze each topic (if there is more than one), and merge those into only one main topic. \n",
    "            If there are topics that are as important as the main topic, display them as a second topic but only if it is linked to the \n",
    "    main topic of discussion in the transcript. Only in this case, you can display more topics.\\\n",
    "    Step 3: Extract the statements related to each topic.\\\n",
    "    Step 4: State the necessary main topics of the entire transcript in a concise, descriptive sentence, \n",
    "            in up to 3 words for each topic.\\\n",
    "    Step 5: Provide the output in a JSON format where the key is the topic and the value is a list of statements made by the \n",
    "            participants.\\\n",
    "    \n",
    "    Review transcript: '''{transcript}'''\n",
    "    \"\"\"\n",
    "            \n",
    "    topics = get_completion(prompt_topic)\n",
    "    return topics"
   ]
  },
  {
   "cell_type": "code",
   "execution_count": 19,
   "id": "7a47a84c-f244-40da-916e-87baf168abd5",
   "metadata": {},
   "outputs": [],
   "source": [
    "topics_2 = get_topics(transcript)"
   ]
  },
  {
   "cell_type": "code",
   "execution_count": 20,
   "id": "8eda6862-0a68-4b46-82af-3d792f39fd48",
   "metadata": {},
   "outputs": [
    {
     "data": {
      "text/plain": [
       "'{\\n  \"Animal Testing\": [\\n    \"Animal testing is necessary for medical research. It has contributed to numerous medical advancements and the development of life-saving treatments.\",\\n    \"While I understand the importance of medical research, we should also consider the ethical concerns associated with animal testing. Animals deserve to be treated with compassion and should not suffer for the sake of human benefits.\",\\n    \"There are alternatives to animal testing, such as in vitro testing and computer simulations, that can provide reliable results without causing harm to animals. We should prioritize the development and adoption of these alternatives.\",\\n    \"Animal testing should be regulated and minimized, but we cannot completely eliminate it at this stage. Striking a balance between scientific progress and animal welfare is crucial.\",\\n    \"We need more transparency and accountability in animal testing. Researchers should provide clear justifications for using animals and ensure that it is conducted in the most humane way possible.\"\\n  ]\\n}'"
      ]
     },
     "execution_count": 20,
     "metadata": {},
     "output_type": "execute_result"
    }
   ],
   "source": [
    "topics_2"
   ]
  },
  {
   "cell_type": "code",
   "execution_count": 29,
   "id": "1d7d816b-d620-4d50-be7e-178d888615e0",
   "metadata": {},
   "outputs": [],
   "source": [
    "def get_viewpoints_by_topic(topics,transcript):\n",
    "    \n",
    "    result = {}\n",
    "    for topic, excerpt in topics.items():\n",
    "        prompt = f'''\n",
    "        You are an assistant for group discussions, specialized on keeping track and documenting the discussion,\n",
    "        that is, the topics discussed, the viewpoints/positions on each topic and the arguments/explanations given in support of each viewpoint.\n",
    "        For the topic \"{topic}\"elimited by triple hashtags, analyse the corresponding excerpt from the discussion. \n",
    "        Your task is to identify all the viewpoints expressed on the topic. \n",
    "\n",
    "        Proceed according to the following steps:\n",
    "\n",
    "        Step 1: In the below discussion transcript, delimited by triple backticks, \n",
    "                locate the excerpt corresponding to the topic and consider the rest \n",
    "                of the transcript as context for the subsequent steps.\n",
    "        Step 2: Are there one or several viewpoints being expressed in the excerpt? \n",
    "                A \"viewpoint\" refers to \"one's perspective of opinion on a particular topic\".\n",
    "        Step 3: If there is only one viewpoint, summarize the viewpoint in 3 keywords max, \n",
    "                more keywords only if necessary to fully grasp the viewpoint. Viewpoint keywords \n",
    "                should be expressed as noun phrases that describe the viewpoint in a depersonalized manner. \n",
    "                For example, instead of “Supports Renewables”, the viewpoint keyword should be “Support for Renewables”. \n",
    "                Instead of “Believes in Traditional Energy”, the viewpoint keyword should be “Belief in Traditional Energy”.\n",
    "                \n",
    "                If there are several viewpoints, summarize each viewpoint in 3 keywords max, more keywords only if \n",
    "                necessary to fully grasp the topic. Viewpoint keywords should be expressed as noun phrases that describe \n",
    "                the viewpoint in a depersonalized manner, as explained in the instruction for one viewpoint.                 \n",
    "        Step 4: Disregard viewpoints that are not relevant to the current topic or more relevant to another topic. Only if a viewpoint is equally relevant to multiple topics, include it under all relevant topics. \n",
    "        Step 5: Identify any linkages between viewpoints that build upon each other or propose solutions to identified issues. For instance, if a viewpoint such as 'Media literacy and critical thinking' is expressed as a solution to the issue identified in another viewpoint like 'Concerns about misinformation', classify it as a sub-viewpoint of the latter. Represent these sub-viewpoints appropriately within the hierarchical structure of the result dictionary.\n",
    "        Step 6: Identify viewpoints that convey essentially the same stance on the topic. For example, viewpoints like 'Lack of regulation and transparency' and 'Need for better regulation' express similar concerns regarding the need for increased regulation in the domain. In such cases, merge these viewpoints into a single unified viewpoint that encapsulates both perspectives. Ensure this is reflected in the summary of viewpoints in the result dictionary.\n",
    "        Step 7: Append the topics-dictionary with the identified and summarized viewpoints as sub-keys and the corresponding discussion excerpts as values.Format the dictionary in JSON-format. \n",
    "        \n",
    "        Only include the appended dictionary in your response. \n",
    "        \n",
    "        ```{transcript}```\n",
    "        '''\n",
    "        viewpoints = get_completion(prompt)\n",
    "        viewpoints_json = json.loads(viewpoints)\n",
    "        result.update(viewpoints_json)\n",
    "    return result"
   ]
  },
  {
   "cell_type": "code",
   "execution_count": 31,
   "id": "d749cb50-ae54-4ea3-8329-b2aa824d8037",
   "metadata": {},
   "outputs": [
    {
     "ename": "AttributeError",
     "evalue": "'str' object has no attribute 'items'",
     "output_type": "error",
     "traceback": [
      "\u001b[0;31m---------------------------------------------------------------------------\u001b[0m",
      "\u001b[0;31mAttributeError\u001b[0m                            Traceback (most recent call last)",
      "Cell \u001b[0;32mIn[31], line 1\u001b[0m\n\u001b[0;32m----> 1\u001b[0m \u001b[43mget_viewpoints_by_topic\u001b[49m\u001b[43m(\u001b[49m\u001b[43mtopics_2\u001b[49m\u001b[43m,\u001b[49m\u001b[43mtranscript_2\u001b[49m\u001b[43m)\u001b[49m\n",
      "Cell \u001b[0;32mIn[29], line 4\u001b[0m, in \u001b[0;36mget_viewpoints_by_topic\u001b[0;34m(topics, transcript)\u001b[0m\n\u001b[1;32m      1\u001b[0m \u001b[38;5;28;01mdef\u001b[39;00m \u001b[38;5;21mget_viewpoints_by_topic\u001b[39m(topics,transcript):\n\u001b[1;32m      3\u001b[0m     result \u001b[38;5;241m=\u001b[39m {}\n\u001b[0;32m----> 4\u001b[0m     \u001b[38;5;28;01mfor\u001b[39;00m topic, excerpt \u001b[38;5;129;01min\u001b[39;00m \u001b[43mtopics\u001b[49m\u001b[38;5;241;43m.\u001b[39;49m\u001b[43mitems\u001b[49m():\n\u001b[1;32m      5\u001b[0m         prompt \u001b[38;5;241m=\u001b[39m \u001b[38;5;124mf\u001b[39m\u001b[38;5;124m'''\u001b[39m\n\u001b[1;32m      6\u001b[0m \u001b[38;5;124m        You are an assistant for group discussions, specialized on keeping track and documenting the discussion,\u001b[39m\n\u001b[1;32m      7\u001b[0m \u001b[38;5;124m        that is, the topics discussed, the viewpoints/positions on each topic and the arguments/explanations given in support of each viewpoint.\u001b[39m\n\u001b[0;32m   (...)\u001b[0m\n\u001b[1;32m     34\u001b[0m \u001b[38;5;124m        ```\u001b[39m\u001b[38;5;132;01m{\u001b[39;00mtranscript\u001b[38;5;132;01m}\u001b[39;00m\u001b[38;5;124m```\u001b[39m\n\u001b[1;32m     35\u001b[0m \u001b[38;5;124m        \u001b[39m\u001b[38;5;124m'''\u001b[39m\n\u001b[1;32m     36\u001b[0m         viewpoints \u001b[38;5;241m=\u001b[39m get_completion(prompt)\n",
      "\u001b[0;31mAttributeError\u001b[0m: 'str' object has no attribute 'items'"
     ]
    }
   ],
   "source": [
    "get_viewpoints_by_topic(topics_2,transcript_2)"
   ]
  },
  {
   "cell_type": "code",
   "execution_count": 22,
   "id": "e1608b0c-ed50-4efd-8fbe-71fa019a3a3e",
   "metadata": {},
   "outputs": [],
   "source": [
    "def get_arguments(viewpoints,transcript):\n",
    "\n",
    "    Prompt_arguments_2 = f'''\n",
    "    You are an assistant for group discussions, specialized on keeping track and documenting the discussion, that is, the topics \n",
    "    discussed, the viewpoints/positions on each topic, and the arguments/explanations given in support of each viewpoint.\n",
    "    \n",
    "    The topics and viewpoints have already been analyzed previously. Your task is to focus on getting arguments corresponding\n",
    "    from the transcript.\n",
    "    \n",
    "    Check the following steps but don't print each step only print what is asked:\n",
    "    \n",
    "    Step 1: Get the arguments from the transcript. Do not copy and paste the text from the transcript. \n",
    "    Analyze and understand the transcript and create the arguments in a concise and descriptive way. \n",
    "    Use a maximum of 3 paragraphs per argument. \n",
    "    Step 2: Get the viewpoints from the dictionary {viewpoints} and understand them.\n",
    "    Step 3: Link each argument with a viewpoint.\\\n",
    "    Step 4: Change the values from the {viewpoints} for the arguments chosen. Each viewpoint should have at least one argument. \n",
    "    Step 5: Create your output in a JSON format following the same structure as the one in {viewpoints}\n",
    "    Step 6: Print\n",
    "    \n",
    "    Review transcript: \"\"\"{transcript_6}\"\"\"\n",
    "    \n",
    "    '''\n",
    "    arguments = get_completion(Prompt_arguments_2)\n",
    "    return arguments"
   ]
  },
  {
   "cell_type": "code",
   "execution_count": 23,
   "id": "2be9801e-c605-4b71-8c90-888f6433aae7",
   "metadata": {},
   "outputs": [
    {
     "ename": "AttributeError",
     "evalue": "'str' object has no attribute 'items'",
     "output_type": "error",
     "traceback": [
      "\u001b[0;31m---------------------------------------------------------------------------\u001b[0m",
      "\u001b[0;31mAttributeError\u001b[0m                            Traceback (most recent call last)",
      "Cell \u001b[0;32mIn[23], line 21\u001b[0m\n\u001b[1;32m     18\u001b[0m     \u001b[38;5;28;01mreturn\u001b[39;00m result\n\u001b[1;32m     20\u001b[0m transcript \u001b[38;5;241m=\u001b[39m transcript_2\n\u001b[0;32m---> 21\u001b[0m result \u001b[38;5;241m=\u001b[39m \u001b[43mprocess_discussion_transcript\u001b[49m\u001b[43m(\u001b[49m\u001b[43mtranscript\u001b[49m\u001b[43m)\u001b[49m\n\u001b[1;32m     22\u001b[0m \u001b[38;5;28mprint\u001b[39m(result)\n",
      "Cell \u001b[0;32mIn[23], line 6\u001b[0m, in \u001b[0;36mprocess_discussion_transcript\u001b[0;34m(transcript)\u001b[0m\n\u001b[1;32m      3\u001b[0m topics \u001b[38;5;241m=\u001b[39m get_topics(transcript)\n\u001b[1;32m      5\u001b[0m \u001b[38;5;66;03m# Step 2: Get viewpoints by topic\u001b[39;00m\n\u001b[0;32m----> 6\u001b[0m viewpoints \u001b[38;5;241m=\u001b[39m \u001b[43mget_viewpoints_by_topic\u001b[49m\u001b[43m(\u001b[49m\u001b[43mtopics\u001b[49m\u001b[43m,\u001b[49m\u001b[43m \u001b[49m\u001b[43mtranscript\u001b[49m\u001b[43m)\u001b[49m\n\u001b[1;32m      8\u001b[0m \u001b[38;5;66;03m# Step 3: Get arguments\u001b[39;00m\n\u001b[1;32m      9\u001b[0m arguments \u001b[38;5;241m=\u001b[39m get_arguments(viewpoints, transcript)\n",
      "Cell \u001b[0;32mIn[21], line 4\u001b[0m, in \u001b[0;36mget_viewpoints_by_topic\u001b[0;34m(topics, transcript)\u001b[0m\n\u001b[1;32m      1\u001b[0m \u001b[38;5;28;01mdef\u001b[39;00m \u001b[38;5;21mget_viewpoints_by_topic\u001b[39m(topics,transcript):\n\u001b[1;32m      3\u001b[0m     result \u001b[38;5;241m=\u001b[39m {}\n\u001b[0;32m----> 4\u001b[0m     \u001b[38;5;28;01mfor\u001b[39;00m topic, excerpt \u001b[38;5;129;01min\u001b[39;00m \u001b[43mtopics\u001b[49m\u001b[38;5;241;43m.\u001b[39;49m\u001b[43mitems\u001b[49m():\n\u001b[1;32m      5\u001b[0m         prompt \u001b[38;5;241m=\u001b[39m \u001b[38;5;124mf\u001b[39m\u001b[38;5;124m'''\u001b[39m\n\u001b[1;32m      6\u001b[0m \u001b[38;5;124m        You are an assistant for group discussions, specialized on keeping track and documenting the discussion,\u001b[39m\n\u001b[1;32m      7\u001b[0m \u001b[38;5;124m        that is, the topics discussed, the viewpoints/positions on each topic and the arguments/explanations given in support of each viewpoint.\u001b[39m\n\u001b[0;32m   (...)\u001b[0m\n\u001b[1;32m     34\u001b[0m \u001b[38;5;124m        ```\u001b[39m\u001b[38;5;132;01m{\u001b[39;00mtranscript\u001b[38;5;132;01m}\u001b[39;00m\u001b[38;5;124m```\u001b[39m\n\u001b[1;32m     35\u001b[0m \u001b[38;5;124m        \u001b[39m\u001b[38;5;124m'''\u001b[39m\n\u001b[1;32m     36\u001b[0m         viewpoints \u001b[38;5;241m=\u001b[39m get_completion(prompt)\n",
      "\u001b[0;31mAttributeError\u001b[0m: 'str' object has no attribute 'items'"
     ]
    }
   ],
   "source": [
    "def process_discussion_transcript(transcript):\n",
    "    # Step 1: Get topics\n",
    "    topics = get_topics(transcript)\n",
    "\n",
    "    # Step 2: Get viewpoints by topic\n",
    "    viewpoints = get_viewpoints_by_topic(topics, transcript)\n",
    "\n",
    "    # Step 3: Get arguments\n",
    "    arguments = get_arguments(viewpoints, transcript)\n",
    "\n",
    "    # Combine topics, viewpoints, and arguments into a single dictionary\n",
    "    result = {\n",
    "        \"topics\": topics,\n",
    "        \"viewpoints\": viewpoints,\n",
    "        \"arguments\": arguments\n",
    "    }\n",
    "\n",
    "    return result\n",
    "\n",
    "transcript = transcript_2\n",
    "result = process_discussion_transcript(transcript)\n",
    "print(result)"
   ]
  },
  {
   "cell_type": "code",
   "execution_count": null,
   "id": "bd58af3e-99e2-490c-ad84-d19b2842cc06",
   "metadata": {},
   "outputs": [],
   "source": []
  },
  {
   "cell_type": "code",
   "execution_count": null,
   "id": "32537e84-9661-4e3d-9724-68ee8cf12c87",
   "metadata": {},
   "outputs": [],
   "source": []
  }
 ],
 "metadata": {
  "kernelspec": {
   "display_name": "Python 3 (ipykernel)",
   "language": "python",
   "name": "python3"
  },
  "language_info": {
   "codemirror_mode": {
    "name": "ipython",
    "version": 3
   },
   "file_extension": ".py",
   "mimetype": "text/x-python",
   "name": "python",
   "nbconvert_exporter": "python",
   "pygments_lexer": "ipython3",
   "version": "3.10.6"
  }
 },
 "nbformat": 4,
 "nbformat_minor": 5
}
