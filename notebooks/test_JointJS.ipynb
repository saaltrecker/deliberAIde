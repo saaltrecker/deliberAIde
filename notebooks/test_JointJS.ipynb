{
 "cells": [
  {
   "cell_type": "code",
   "execution_count": 1,
   "id": "e893b616-0776-4c61-a379-e3e2c5cd487b",
   "metadata": {},
   "outputs": [],
   "source": [
    "import pandas as pd\n",
    "import openai\n",
    "import os\n",
    "import json\n",
    "import time"
   ]
  },
  {
   "cell_type": "code",
   "execution_count": 2,
   "id": "11d786db-3009-4470-a7a5-cb7ed5a06caa",
   "metadata": {},
   "outputs": [],
   "source": [
    "openai.api_key = os.environ.get('OPENAI_API_KEY')"
   ]
  },
  {
   "cell_type": "markdown",
   "id": "f66b6356-cb28-461f-a151-ad9145807467",
   "metadata": {},
   "source": [
    "### Helper function to get completion from model based on a prompt input; model to be call can be changed for example GTP-3.5-turbo instead of GPT-4\n"
   ]
  },
  {
   "cell_type": "code",
   "execution_count": 3,
   "id": "91f53021-77c0-4211-82eb-168804dd4128",
   "metadata": {},
   "outputs": [],
   "source": [
    "def get_completion(prompt, model=\"gpt-4\"):\n",
    "    messages = [{\"role\": \"user\", \"content\": prompt}]\n",
    "    response = openai.ChatCompletion.create(\n",
    "        model=model,\n",
    "        messages=messages,\n",
    "        temperature=0,  # this is the degree of randomness of the model's output\n",
    "    )\n",
    "    return response.choices[0].message[\"content\"]"
   ]
  },
  {
   "cell_type": "markdown",
   "id": "f77e69fe-0c78-4e1b-97d1-adc4200f6224",
   "metadata": {},
   "source": [
    "### Function for getting completion from OpenAI instructing model to identify topics based on a discussion transcript"
   ]
  },
  {
   "cell_type": "code",
   "execution_count": 4,
   "id": "5bf6fa46-151f-400d-b097-3469535ba43d",
   "metadata": {},
   "outputs": [],
   "source": [
    "def get_topics(transcript):\n",
    "\n",
    "    prompt_topic = f\"\"\"\n",
    "    You are an assistant for group discussions, specializing in keeping track of and documenting the discussion,\n",
    "    that is, the topics discussed, the viewpoints/positions on each topic, and the arguments/explanations given in support of each viewpoint.\n",
    "    \n",
    "    Identify the main topic discussed in the discussion transcript, delimited with triple backticks.\n",
    "    \n",
    "    Check the following steps but don't print each step, only print what is asked:\n",
    "\n",
    "    Step 1: Identify the main topic discussed in the discussion transcript. Take the time to read the complete transcript and \n",
    "        understand it, don't take words as a topic, analyze the arguments in the transcript and then decide on the topic. \\\n",
    "    Step 2: Analyze each topic (if there is more than one) and merge those into one main topic.\n",
    "        If there are topics that are as important as the main topic, display them as secondary topics, but only if they are \n",
    "        closely linked to the main topic of discussion in the transcript. \\\n",
    "    Step 3: State the necessary main topic of the entire transcript in a concise, descriptive sentence,\n",
    "        in up to 3 words for each topic. Consider the frequency of mentions, relevance, and significance of each topic.\n",
    "        Discard any topic that is not at least 50% as relevant as the main topic. \\\n",
    "    Step 4: Review the main topic and the transcript again. If any secondary topics are not closely related to the main topic,\n",
    "        discard them and print only the main topic. \\\n",
    "    Step 5: Provide the output in a JSON format where the key is each topic and the values are the text 'viewpoints'. Don't write\n",
    "            the text 'main topic' and don't display secondary topics.\n",
    "        for example:\n",
    "            {{main topic: 'viewpoint'}}\n",
    "\n",
    "    Review transcript: '''{transcript}'''\n",
    "    \"\"\"\n",
    "\n",
    "    topics = get_completion(prompt_topic)\n",
    "    topics_json = json.loads(topics)\n",
    "\n",
    "    return topics_json"
   ]
  },
  {
   "cell_type": "markdown",
   "id": "33ff739e-3865-4824-8377-51447b4697a7",
   "metadata": {},
   "source": [
    "### Function for getting completion from OpenAI instructing model to identify viewpoints per topic based on output from get_topics"
   ]
  },
  {
   "cell_type": "code",
   "execution_count": 30,
   "id": "95a2305f-c969-4e36-b900-7a7ac2d51560",
   "metadata": {},
   "outputs": [],
   "source": [
    "def get_viewpoints_by_topic(topics,transcript):\n",
    "    result = {}\n",
    "    for topic, excerpt in topics.items():\n",
    "        prompt = f\"\"\"\n",
    "        You are an assistant for group discussions, specialized on keeping track and documenting the discussion,\n",
    "        that is, the topics discussed, the viewpoints/positions on each topic and the arguments/explanations given in support of each viewpoint.\n",
    "        For the topic '{topic}'elimited by triple hashtags, analyse the corresponding excerpt from the discussion.\n",
    "        Your task is to identify all the viewpoints expressed on the topic.\n",
    "\n",
    "        Proceed according to the following steps:\n",
    "\n",
    "        Step 1: In the below discussion transcript, delimited by triple backticks,\n",
    "                locate the excerpt corresponding to the topic and consider the rest\n",
    "                of the transcript as context for the subsequent steps.\\\n",
    "        Step 2: Are there one or several viewpoints being expressed in the excerpt?\n",
    "                A \"viewpoint\" refers to \"one's perspective of opinion on a particular topic\".\\\n",
    "        Step 3: If there is only one viewpoint, summarize the viewpoint in 3 keywords max,\n",
    "                more keywords only if necessary to fully grasp the viewpoint. Viewpoint keywords\n",
    "                should be expressed as noun phrases that describe the viewpoint in a depersonalized manner.\n",
    "                For example, instead of “Supports Renewables”, the viewpoint keyword should be “Support for Renewables”.\n",
    "                Instead of “Believes in Traditional Energy”, the viewpoint keyword should be “Belief in Traditional Energy”.\\\n",
    "\n",
    "                If there are several viewpoints, summarize each viewpoint in 3 keywords max, more keywords only if\n",
    "                necessary to fully grasp the topic. Viewpoint keywords should be expressed as noun phrases that describe\n",
    "                the viewpoint in a depersonalized manner, as explained in the instruction for one viewpoint.\\\n",
    "        Step 4: Disregard viewpoints that are not relevant to the current topic or more relevant to another topic. Only if a \n",
    "                viewpoint is equally relevant to multiple topics, include it under all relevant topics.\\\n",
    "        Step 5: Identify any linkages between viewpoints that build upon each other or propose solutions to identified issues. \n",
    "                For instance, if a viewpoint such as 'Media literacy and critical thinking' is expressed as a solution to the \n",
    "                issue identified in another viewpoint like 'Concerns about misinformation', classify it as a sub-viewpoint of \n",
    "                the latter. \\\n",
    "                Represent these sub-viewpoints appropriately within the hierarchical structure of the result dictionary.\n",
    "        Step 6: Identify viewpoints that convey essentially the same stance on the topic. For example, viewpoints like 'Lack \n",
    "                of regulation and transparency' and 'Need for better regulation' express similar concerns regarding the need for \n",
    "                increased regulation in the domain. In such cases, merge these viewpoints into a single unified viewpoint that \n",
    "                encapsulates both perspectives. Ensure this is reflected in the summary of viewpoints in the result dictionary.\n",
    "        Step 7: Take the topics from {topics} as key and the founded viewpoints as values.\\ Make sure to do not create new \n",
    "                topics nor subtopics or subviewpoint, only include in the output topics and viewpoints. \n",
    "                Format the dictionary in JSON-format.\\\n",
    "\n",
    "        Only include the appended dictionary in your response.\n",
    "\n",
    "        ```{transcript}```\n",
    "        \"\"\"\n",
    "        viewpoints = get_completion(prompt)\n",
    "        viewpoints_json = json.loads(viewpoints)\n",
    "        result.update(viewpoints_json)\n",
    "    return result"
   ]
  },
  {
   "cell_type": "markdown",
   "id": "2040e542-336a-4158-a2c6-7e5de421830c",
   "metadata": {},
   "source": [
    "### Function for getting completion from OpenAI instructing model to identify arguments per viewpoint based on output from get_viewpoints_by_topic"
   ]
  },
  {
   "cell_type": "code",
   "execution_count": 6,
   "id": "43d5a5e2-9fda-46cc-8a07-6834cfc3e52d",
   "metadata": {},
   "outputs": [],
   "source": [
    "def get_arguments_by_viewpoint(viewpoints_by_topic):\n",
    "    prompt = f\"\"\"\n",
    "        You are an assistant for group discussions, specialized on keeping track and documenting the discussion,\n",
    "        that is, the topics discussed, the viewpoints and sub-viewpoints on each topic and the arguments/explanations given in support of each viewpoint and sub-viewpoint.\n",
    "        For the dictionary {viewpoints_by_topic}, delimited by triple # below, loop through each viewpoint and sub-viewpoint to extract the arguments/explanations given in support of each viewpoint and sub-viewpoint from the corresponding discussion excerpt provided as value.\n",
    "        Your task is to identify all the arguments/explanations given in support of each viewpoint and sub-viewpoint, summarize the arguments/explanations and document them together with the corresponding discussion excerpt.\n",
    "\n",
    "        Proceed according to the following steps:\n",
    "        Step 1: Identify all the viewpoints, sub-viewpoints and corresponding discussion excerpts in the dictionary. The keys of the second-level sub-dictionary/dictionaries represent the viewpoints. If there are sub-viewpoints, they are recorded as keys of the third-level sub-dictionaries.\n",
    "                For example, in the below example, delimited by triple *, 'Powerful tool for engagement','Concerns about misinformation' and 'Echo chambers and bias reinforcement' viewpoints. 'Lack of regulation and transparency' and 'Media literacy and critical thinking' are sub-viewpoints belonging to the viewpoint 'Concerns about misinformation'. 'Participant 1: \"The role of social media...\" is the excerpt corresponding to the viewpoint 'Powerful tool for engagement'. 'Participant 2: \"I agree that social media provides...\" is the excerpt corresponding to the sub-viewpoint 'Lack of regulation and transparency.\n",
    "                    ***{{\n",
    "                    'Social media in political campaigns': {{\n",
    "                        'Powerful tool for engagement': 'Participant 1: \"The role of social media in political campaigns is a subject that has gained significant attention in recent years. It has become a powerful tool for politicians to engage with voters and spread their message.\"',\n",
    "                        'Concerns about misinformation': {{\n",
    "                            'Lack of regulation and transparency': 'Participant 2: \"I agree that social media provides a platform for political candidates to connect with a wider audience and mobilize support. However, the lack of regulation and transparency in political advertising on these platforms is a major issue that needs to be addressed.\"',\n",
    "                            'Media literacy and critical thinking': 'Participant 3: \"I believe that social media has democratized political discourse and allowed marginalized voices to be heard. It provides a platform for grassroots movements and enables citizens to participate in political discussions like never before. We should focus on educating users about media literacy and critical thinking to combat misinformation.\"'\n",
    "                        }},\n",
    "                        'Echo chambers and bias reinforcement': 'Participant 4: \"While social media has its benefits, the algorithms used by these platforms tend to create echo chambers and reinforce existing biases. We need better regulation to ensure that diverse viewpoints are represented and to prevent the manipulation of public opinion through targeted content.\"'\n",
    "                        }},\n",
    "                    'Revamping annual festival': {{\n",
    "                        'Incorporating local talent': 'Yeah, we can incorporate more local talent, add a stage for local bands.',\n",
    "                        'Showcasing regional cuisine': 'And more food stalls. Our region is known for its cuisine, we can showcase that.',\n",
    "                        'Promoting local crafts': 'Festivals are a great place to promote local crafts too. We have a rich tradition here.',\n",
    "                        'Sustainability focus': 'We should also think about sustainability. We can minimize waste and promote recycling.',\n",
    "                        'Partnering with local businesses': 'What about partnering with local businesses? They can sponsor the event.',\n",
    "                        'Family activities': 'And we can organize workshops and competitions for kids. Involving families is important.',\n",
    "                        'Stronger marketing strategy': 'Finally, we need to get the word out. A stronger marketing strategy maybe?',\n",
    "                        'Engaging local influencers': 'How about reaching out to local influencers? They can promote the event on social media.'\n",
    "                        }}***\n",
    "\n",
    "       Step 2: For each identified viewpoint or sub-viewpoint, extract all the argument given in support of the viewpoint/sub-viewpoint from the corresponding discussion excerpts.\n",
    "               An \"argument\" refers to a statement or series of statements in support of a viewpoint expressed on a discussion topic.\n",
    "               It can consist a series of statements, facts, or any kind of explanation or justification intended to develop or support a point of view.\n",
    "               It is often structured as follows: a claim backed up with evidence, facts, and examples.\n",
    "\n",
    "       Step 3: Summarize all the arguments per viewpoint or sub-viewpoint in one to three sentences.Make the summary long enough to capture the full complexity of the argument and make it understandable for an outsider unfamiliar with the discussion, but shorter than the corresponding discussion excerpt. Arguments should be expressed as noun phrases that describe the argument in a depersonalized manner.\n",
    "               For example, instead of “Argues renewables are bad, because windmills destroy biodiversity”, the argument summary should be “Renewables are bad, because wind farms negatively impact biodiversity”.\n",
    "\n",
    "        Step 4: Revise the dictionary {viewpoints_by_topic} in the following way:\n",
    "                - Erase the discussion excerpts corresponding to each viewpoint or sub-viewpoint\n",
    "                - In place of the erased discussion excerpts, insert a new sub-dictionary with all the argument summaries in support of the respective viewpoint or sub-viewpoint as keys and corresponding discussion excerpts as values.\n",
    "\n",
    "        Only include the appended dictionary in your response.\n",
    "\n",
    "        ###{viewpoints_by_topic}###\n",
    "\n",
    "    \"\"\"\n",
    "\n",
    "    arguments = get_completion(prompt)\n",
    "\n",
    "    prompt = f\"\"\"Given the following Python-style dictionary {arguments}, please convert it into a properly\n",
    "    formatted JSON object.\n",
    "    \"\"\"\n",
    "    arguments_json = get_completion(prompt)\n",
    "    arguments_json = json.loads(arguments_json)\n",
    "\n",
    "    return arguments_json"
   ]
  },
  {
   "cell_type": "markdown",
   "id": "7748e6e6-cef7-401f-a0ac-86a1ebcf1284",
   "metadata": {},
   "source": [
    "### Transcripts"
   ]
  },
  {
   "cell_type": "code",
   "execution_count": 36,
   "id": "4a4de20f-210b-433c-8a00-7f0852eda022",
   "metadata": {},
   "outputs": [],
   "source": [
    "transcript = f\"\"\"\n",
    "Participant 1: \"Animal testing is necessary for medical research. It has contributed to numerous medical advancements and \n",
    "                the development of life-saving treatments.\" \n",
    "Participant 2: \"While I understand the importance of medical research, \n",
    "                we should also consider the ethical concerns associated with animal testing. Animals deserve to be treated \n",
    "                with compassion and should not suffer for the sake of human benefits.\" \n",
    "Participant 3: \"There are alternatives to animal testing, such as in vitro testing and computer simulations, \n",
    "                that can provide reliable results without causing harm to animals. We should prioritize the development and \n",
    "                adoption of these alternatives.\" \n",
    "Participant 4: \"Animal testing should be regulated and minimized, but we cannot completely eliminate it at this stage. Striking a balance between scientific \n",
    "                progress and animal welfare are crucial.\" \n",
    "Participant 5: \"We need more transparency and accountability in animal testing. Researchers should provide clear \n",
    "                justifications for using animals and ensure that it is conducted in the most humane way possible.\"\"\""
   ]
  },
  {
   "cell_type": "code",
   "execution_count": 8,
   "id": "70806ac5-a52d-4b00-87af-3f9c364d87f4",
   "metadata": {},
   "outputs": [],
   "source": [
    "transcript_2 = f\"\"\"\n",
    "<br>Participant 1: \"The role of social media in political campaigns is a subject that has gained significant attention in recent \n",
    "years. It has become a powerful tool for politicians to engage with voters and spread their message. \n",
    "However, there are concerns about the spread of misinformation and the manipulation of public opinion through targeted ads.\" \n",
    "<br>Participant 2: \"I agree that social media provides a platform for political candidates to connect with a wider audience and \n",
    "mobilize support. However, the lack of regulation and transparency in political advertising on these platforms is a major \n",
    "issue that needs to be addressed.\" \n",
    "<br>Participant 3: \"I believe that social media has democratized political discourse and \n",
    "allowed marginalized voices to be heard. It provides a platform for grassroots movements and enables citizens to \n",
    "participate in political discussions like never before. We should focus on educating users about media literacy and critical \n",
    "thinking to combat misinformation.\" \n",
    "<br>Participant 4: \"While social media has its benefits, the algorithms used by these platforms tend to create echo chambers and \n",
    "reinforce existing biases. We need better regulation to ensure that diverse viewpoints are represented and to prevent the \n",
    "manipulation of public opinion through targeted content.\n",
    "\"\"\""
   ]
  },
  {
   "cell_type": "code",
   "execution_count": 9,
   "id": "04aaa914-6103-41dd-82aa-37d7151d5910",
   "metadata": {},
   "outputs": [],
   "source": [
    "transcript_3 = f\"\"\"\n",
    "<br>Speaker 1: \"We've seen a rise in youth violence in our community, and I'm worried. Maybe some sort of mentoring program \n",
    "could make a difference?\" \n",
    "<br>Speaker 2: \"Mentoring? Really? In my opinion, we need more police presence. That's the only language these kids understand.\" \n",
    "<br>Speaker 3: \"I wouldn't discount the value of a mentoring program so quickly. The problem isn't just law enforcement, but also \n",
    "social issues. Addressing those might help.\" \n",
    "<br>Speaker 4: \"If you ask me, this is a problem that begins at home. Many of these kids lack a good family structure. We need \n",
    "programs that support families too.\" \n",
    "<br>Speaker 5: \"All these are good points, but what about the role of schools? They're underfunded and struggling to offer good \n",
    "education and extracurricular activities.\" \n",
    "<br>Speaker 6: \"Yes, and we also have to remember the role of peer pressure in youth violence. We need programs that teach our \n",
    "\"\"\""
   ]
  },
  {
   "cell_type": "code",
   "execution_count": 10,
   "id": "a72769d1-07b0-413f-9cea-b4e6c1a12c91",
   "metadata": {},
   "outputs": [],
   "source": [
    "transcript_4 = f\"\"\"\n",
    "P1: \"Have you all been following the news about the rising sea levels? Our coastal cities are under threat and we can't just \n",
    "sit and watch. We need to be proactive in our mitigation efforts, perhaps even consider relocating our operations to a safer, \n",
    "inland location.\" P2: \"I share your concerns, P1, but relocating seems a bit extreme, doesn't it? It's a costly measure. I \n",
    "think we should focus on increasing our preparedness for extreme weather events. Let's reinforce our infrastructure, have \n",
    "contingency plans in place. Better safe than sorry, right?\" P3: \"While I appreciate both points, I must stress that we can't \n",
    "tackle this issue single-handedly. We need to lobby for more robust government measures. It's a national issue.\" \n",
    "P4: \"Indeed, P3. But we also have a responsibility to reduce our own carbon footprint. Maybe, investing in green \n",
    "technologies or shifting to cleaner production methods?\" P5: \"I like that idea, P4. In fact, it might even prove to be \n",
    "beneficial for our brand image. We can portray ourselves as a responsible, environmentally-conscious corporation.\" \n",
    "P6: \"All points considered, we need to come up with a comprehensive plan. Let's get our teams on this - risk management, \n",
    "PR, everyone. And let's engage with local communities, they need to be part of this conversation too.\"\n",
    "\"\"\""
   ]
  },
  {
   "cell_type": "markdown",
   "id": "4b3d4717-dbc6-4a8b-9760-7ef62e658bbc",
   "metadata": {},
   "source": [
    "### Calling model"
   ]
  },
  {
   "cell_type": "code",
   "execution_count": 34,
   "id": "8536a8cc-33dd-45f1-87d9-e198ec074298",
   "metadata": {},
   "outputs": [],
   "source": [
    "def process_transcript(transcript):\n",
    "    start_time = time.time()  # Start measuring time\n",
    "    topics = get_topics(transcript)\n",
    "    viewpoints = get_viewpoints_by_topic(topics, transcript)\n",
    "    arguments = get_arguments_by_viewpoint(viewpoints)\n",
    "    end_time = time.time()  # Stop measuring time\n",
    "    execution_time = end_time - start_time  # Calculate the execution time\n",
    "    return {\"topics\": topics, \"viewpoints\": viewpoints, \"arguments\": arguments, \"execution_time\": execution_time}"
   ]
  },
  {
   "cell_type": "code",
   "execution_count": 35,
   "id": "c444f05e-e249-48e2-a928-4885ec57b1d1",
   "metadata": {},
   "outputs": [
    {
     "name": "stdout",
     "output_type": "stream",
     "text": [
      "{'Social Media in Politics': {'viewpoint1': {'Powerful tool for engagement': {'Engaging with voters and spreading message': 'Participant 1: \"The role of social media in political campaigns is a subject that has gained significant attention in recent years. It has become a powerful tool for politicians to engage with voters and spread their message.\"'}}, 'viewpoint2': {'main': 'Concerns about misinformation', 'sub-viewpoint': {'Media literacy and critical thinking': {'Democratization of political discourse': 'Participant 3: \"I believe that social media has democratized political discourse and allowed marginalized voices to be heard. It provides a platform for grassroots movements and enables citizens to participate in political discussions like never before.\"', 'Education on media literacy and critical thinking': 'Participant 3: \"We should focus on educating users about media literacy and critical thinking to combat misinformation.\"'}}}, 'viewpoint3': {'Lack of regulation and transparency': {'Connecting with wider audience and mobilizing support': 'Participant 2: \"I agree that social media provides a platform for political candidates to connect with a wider audience and mobilize support.\"', 'Need for regulation and transparency in political advertising': 'Participant 2: \"However, the lack of regulation and transparency in political advertising on these platforms is a major issue that needs to be addressed.\"'}}, 'viewpoint4': 'Democratization of political discourse', 'viewpoint5': {'Echo chambers and reinforced biases': {'Algorithms creating echo chambers and reinforcing biases': 'Participant 4: \"While social media has its benefits, the algorithms used by these platforms tend to create echo chambers and reinforce existing biases.\"', 'Need for better regulation for diverse viewpoints representation': 'Participant 4: \"We need better regulation to ensure that diverse viewpoints are represented and to prevent the manipulation of public opinion through targeted content.\"'}}}}\n",
      "Execution Time: 171.8569619655609 seconds\n"
     ]
    }
   ],
   "source": [
    "result = process_transcript(transcript_2)\n",
    "print(result[\"arguments\"])\n",
    "print(\"Execution Time:\", result[\"execution_time\"], \"seconds\")"
   ]
  },
  {
   "cell_type": "code",
   "execution_count": 44,
   "id": "de797826-06a1-4d90-9062-3e6d5604ef87",
   "metadata": {},
   "outputs": [],
   "source": [
    "#---------\n",
    "#---------\n",
    "#---------"
   ]
  },
  {
   "cell_type": "code",
   "execution_count": 26,
   "id": "75763c9d-e672-462e-874c-d9a5f362625d",
   "metadata": {},
   "outputs": [],
   "source": [
    "topics = get_topics(transcript_2)"
   ]
  },
  {
   "cell_type": "code",
   "execution_count": 27,
   "id": "fe81fd04-7bbc-4938-8dec-7c372307d9c1",
   "metadata": {},
   "outputs": [
    {
     "data": {
      "text/plain": [
       "{'Social Media in Politics': 'viewpoint'}"
      ]
     },
     "execution_count": 27,
     "metadata": {},
     "output_type": "execute_result"
    }
   ],
   "source": [
    "topics"
   ]
  },
  {
   "cell_type": "code",
   "execution_count": 31,
   "id": "fa2bbd79-f309-4b65-843c-e61a8908a272",
   "metadata": {},
   "outputs": [],
   "source": [
    "viewpoints = get_viewpoints_by_topic(topics, transcript_2)"
   ]
  },
  {
   "cell_type": "code",
   "execution_count": 32,
   "id": "17d32811-a336-4c57-9a03-e465093604a6",
   "metadata": {},
   "outputs": [
    {
     "data": {
      "text/plain": [
       "{'Social Media in Politics': {'viewpoint1': 'Powerful tool for engagement',\n",
       "  'viewpoint2': {'main': 'Concerns about misinformation',\n",
       "   'sub-viewpoint': 'Media literacy and critical thinking'},\n",
       "  'viewpoint3': 'Lack of regulation and transparency',\n",
       "  'viewpoint4': 'Democratization of political discourse',\n",
       "  'viewpoint5': 'Echo chambers and reinforced biases'}}"
      ]
     },
     "execution_count": 32,
     "metadata": {},
     "output_type": "execute_result"
    }
   ],
   "source": [
    "viewpoints"
   ]
  },
  {
   "cell_type": "code",
   "execution_count": 33,
   "id": "e73bec67-b50a-4580-ad85-41a55eb8a5ac",
   "metadata": {},
   "outputs": [],
   "source": [
    "#arguments = get_arguments_by_viewpoint(viewpoints)"
   ]
  },
  {
   "cell_type": "code",
   "execution_count": 48,
   "id": "1f224e4e-e2ad-4209-8356-e70364770d05",
   "metadata": {},
   "outputs": [
    {
     "name": "stdout",
     "output_type": "stream",
     "text": [
      "{'Social Media in Politics': {'Powerful tool for engagement': {'Engaging voters and spreading message': 'Participant 1: \"The role of social media in political campaigns is a subject that has gained significant attention in recent years. It has become a powerful tool for politicians to engage with voters and spread their message.\"'}, 'Concerns about misinformation': {'Lack of regulation and transparency': {'Connecting with wider audience and mobilizing support': 'Participant 2: \"I agree that social media provides a platform for political candidates to connect with a wider audience and mobilize support. However, the lack of regulation and transparency in political advertising on these platforms is a major issue that needs to be addressed.\"'}, 'Media literacy and critical thinking': {'Democratizing political discourse and enabling citizen participation': 'Participant 3: \"I believe that social media has democratized political discourse and allowed marginalized voices to be heard. It provides a platform for grassroots movements and enables citizens to participate in political discussions like never before. We should focus on educating users about media literacy and critical thinking to combat misinformation.\"'}}, 'Echo chambers and biases': {'Need for better regulation and diverse viewpoints': 'Participant 4: \"While social media has its benefits, the algorithms used by these platforms tend to create echo chambers and reinforce existing biases. We need better regulation to ensure that diverse viewpoints are represented and to prevent the manipulation of public opinion through targeted content.\"'}}}\n"
     ]
    }
   ],
   "source": [
    "print(arguments)"
   ]
  },
  {
   "cell_type": "code",
   "execution_count": null,
   "id": "e1dccc4e-4220-4e01-98b9-5078dc947542",
   "metadata": {},
   "outputs": [],
   "source": []
  },
  {
   "cell_type": "code",
   "execution_count": null,
   "id": "2cd9ea65-e146-4914-b42e-a54a0a0ae818",
   "metadata": {},
   "outputs": [],
   "source": []
  }
 ],
 "metadata": {
  "kernelspec": {
   "display_name": "Python 3 (ipykernel)",
   "language": "python",
   "name": "python3"
  },
  "language_info": {
   "codemirror_mode": {
    "name": "ipython",
    "version": 3
   },
   "file_extension": ".py",
   "mimetype": "text/x-python",
   "name": "python",
   "nbconvert_exporter": "python",
   "pygments_lexer": "ipython3",
   "version": "3.10.6"
  }
 },
 "nbformat": 4,
 "nbformat_minor": 5
}
